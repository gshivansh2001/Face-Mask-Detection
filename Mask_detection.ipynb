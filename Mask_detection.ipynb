{
 "cells": [
  {
   "cell_type": "markdown",
   "id": "2f687d3f",
   "metadata": {},
   "source": [
    "### Importing the libraries"
   ]
  },
  {
   "cell_type": "code",
   "execution_count": 1,
   "id": "4a87357b",
   "metadata": {},
   "outputs": [],
   "source": [
    "#Basic libraries\n",
    "import numpy as np\n",
    "import pandas as pd\n",
    "import matplotlib.pyplot as plt\n",
    "import seaborn as sns\n",
    "#Image Processing\n",
    "import cv2 as cv\n",
    "from PIL import Image\n",
    "#Intracting with operating systems\n",
    "import os\n",
    "#Model processing\n",
    "from tensorflow.keras.models import Model\n",
    "from tensorflow.keras.preprocessing.image import img_to_array\n",
    "from tensorflow.keras.preprocessing.image import load_img\n",
    "from keras.preprocessing.image import ImageDataGenerator\n",
    "from skimage import io\n",
    "%matplotlib inline"
   ]
  },
  {
   "cell_type": "markdown",
   "id": "135389f4",
   "metadata": {},
   "source": [
    "#### Data Augmentation"
   ]
  },
  {
   "cell_type": "code",
   "execution_count": 41,
   "id": "aaaec8c1",
   "metadata": {},
   "outputs": [],
   "source": [
    "datagen = ImageDataGenerator(rotation_range = 40, shear_range = 0.2, zoom_range = 0.2, horizontal_flip = True, brightness_range = (0.5, 1.5))\n",
    "\n",
    "image_directory = r'C:\\\\Users\\\\Dell\\\\Documents\\\\Projects\\\\ML\\\\Computer Vision\\\\Mask Detection\\\\images\\\\Masked\\\\'\n",
    "SIZE = 150\n",
    "dataset = []\n",
    "\n",
    "my_images = os.listdir(image_directory)\n",
    "\n",
    "for i, image_name in enumerate(my_images):    \n",
    "    if (image_name.split('.')[1] == 'jpg'):        \n",
    "        image = io.imread(image_directory  + image_name)       \n",
    "        image = Image.fromarray(image, 'RGB')        \n",
    "        image = image.resize((SIZE,SIZE)) \n",
    "        dataset.append(np.array(image))\n",
    "        \n",
    "x = np.array(dataset)\n",
    "i = 0\n",
    "\n",
    "for batch in datagen.flow(x, batch_size=16, save_to_dir= r'C:\\\\Users\\Dell\\\\Documents\\\\Projects\\\\ML\\\\Computer Vision\\\\Mask Detection\\\\images\\\\Augmented images',save_prefix='dr',save_format='jpg'):    \n",
    "    i += 1    \n",
    "    if i > 50:        \n",
    "        break"
   ]
  },
  {
   "cell_type": "code",
   "execution_count": null,
   "id": "f1b1ff45",
   "metadata": {},
   "outputs": [],
   "source": [
    "datagen = ImageDataGenerator(rotation_range=40,shear_range = 0.2, zoom_range = 0.2, horizontal flip = True, brightness_range = (0.5,1.5))\n"
   ]
  },
  {
   "cell_type": "markdown",
   "id": "c5e5922a",
   "metadata": {},
   "source": [
    "### Extracting the Image names"
   ]
  },
  {
   "cell_type": "code",
   "execution_count": 2,
   "id": "2640d2cf",
   "metadata": {},
   "outputs": [],
   "source": [
    "#Extracting the filenames in the path\n",
    "masked_dir = os.listdir('images\\\\Masked')\n",
    "non_masked_dir = os.listdir('images\\\\Nonmasked')"
   ]
  },
  {
   "cell_type": "markdown",
   "id": "15baa4ba",
   "metadata": {},
   "source": [
    "#### Resizing the Images to a common dimension and converting them to array"
   ]
  },
  {
   "cell_type": "code",
   "execution_count": 3,
   "id": "82859e1d",
   "metadata": {},
   "outputs": [],
   "source": [
    "#List to store the image arrays and labels\n",
    "data = []\n",
    "labels = []"
   ]
  },
  {
   "cell_type": "code",
   "execution_count": 4,
   "id": "24ed543a",
   "metadata": {},
   "outputs": [],
   "source": [
    "#Converting all the masked images into array\n",
    "for img in masked_dir:\n",
    "    img_path = 'images\\Masked\\{}'.format(img)\n",
    "    image = load_img(img_path, target_size=(150,150))\n",
    "    image = img_to_array(image)\n",
    "\n",
    "    data.append(image)\n",
    "    labels.append(1)"
   ]
  },
  {
   "cell_type": "code",
   "execution_count": 5,
   "id": "ab28c8d7",
   "metadata": {},
   "outputs": [],
   "source": [
    "#Converting all the non-masked images into array\n",
    "for img in non_masked_dir:\n",
    "    img_path = 'images\\\\Nonmasked\\\\{}'.format(img)\n",
    "    image = load_img(img_path, target_size=(150, 150))\n",
    "    image = img_to_array(image)\n",
    "\n",
    "    data.append(image)\n",
    "    labels.append(0)"
   ]
  },
  {
   "cell_type": "code",
   "execution_count": 6,
   "id": "73d8abe3",
   "metadata": {},
   "outputs": [],
   "source": [
    "#Converting the data and labels list into arrays\n",
    "data = np.array(data, dtype=\"float32\")\n",
    "labels = np.array(labels)"
   ]
  },
  {
   "cell_type": "code",
   "execution_count": 51,
   "id": "b293301b",
   "metadata": {},
   "outputs": [],
   "source": [
    "#function to display an image\n",
    "def show_image(filename):\n",
    "    img = cv.imread('{}'.format(filename))\n",
    "    cv.imshow(\"Photo\", img)\n",
    "    cv.waitKey(0)  \n",
    "    cv.destroyAllWindows() "
   ]
  },
  {
   "cell_type": "code",
   "execution_count": 52,
   "id": "7df4ebea",
   "metadata": {},
   "outputs": [],
   "source": [
    "#Sample Display of image\n",
    "show_image('images\\\\Masked\\\\maksssksksss1.png')"
   ]
  },
  {
   "cell_type": "markdown",
   "id": "b0b18324",
   "metadata": {},
   "source": [
    "### Spliting the data into train and test set"
   ]
  },
  {
   "cell_type": "code",
   "execution_count": 7,
   "id": "c6f7445f",
   "metadata": {},
   "outputs": [],
   "source": [
    "from sklearn.model_selection import train_test_split"
   ]
  },
  {
   "cell_type": "code",
   "execution_count": 8,
   "id": "8732327a",
   "metadata": {},
   "outputs": [],
   "source": [
    "X_train,X_test,y_train,y_test = train_test_split(data,labels,test_size=0.2,random_state=101)"
   ]
  },
  {
   "cell_type": "markdown",
   "id": "8d9b6f1d",
   "metadata": {},
   "source": [
    "### Regularizing the data"
   ]
  },
  {
   "cell_type": "code",
   "execution_count": 9,
   "id": "d72a05a9",
   "metadata": {},
   "outputs": [],
   "source": [
    "#List to store the arrays after converting them from 32x32x3 to 3072 because MinMaxScaler allows only <=2 Dimensional Array\n",
    "arr_train = []\n",
    "arr_test = []\n",
    "\n",
    "#converting arrays from 32x32x3 to 3072\n",
    "for i in range(len(X_train)):\n",
    "    arr_train.append(X_train[i].reshape(67500))\n",
    "\n",
    "for i in range(len(X_test)):\n",
    "    arr_test.append(X_test[i].reshape(67500))"
   ]
  },
  {
   "cell_type": "code",
   "execution_count": 10,
   "id": "b223611c",
   "metadata": {},
   "outputs": [],
   "source": [
    "#converting the lists to array\n",
    "arr_train = np.array(arr_train,dtype='float32')\n",
    "arr_test = np.array(arr_test,dtype='float32')"
   ]
  },
  {
   "cell_type": "code",
   "execution_count": 11,
   "id": "f8a8b458",
   "metadata": {},
   "outputs": [],
   "source": [
    "#Regularizing the data using MinMaxScaler \n",
    "from sklearn.preprocessing import MinMaxScaler\n",
    "\n",
    "scaler = MinMaxScaler()\n",
    "\n",
    "X_train = scaler.fit_transform(arr_train)\n",
    "X_test = scaler.transform(arr_test)"
   ]
  },
  {
   "cell_type": "code",
   "execution_count": 8,
   "id": "ca076cf5",
   "metadata": {},
   "outputs": [],
   "source": [
    "col = []\n",
    "for i in range(1,4):\n",
    "    for j in range(1,151):\n",
    "        for k in range(1,151):\n",
    "            col.append(str(i)+'x'+str(j)+'x'+str(k))"
   ]
  },
  {
   "cell_type": "code",
   "execution_count": 13,
   "id": "13e717dd",
   "metadata": {},
   "outputs": [],
   "source": [
    "#Converting the 1-D arrays into DataFrame \n",
    "df_train = pd.DataFrame(X_train,columns = col)\n",
    "df_test = pd.DataFrame(X_test,columns = col)\n",
    "y_train = pd.DataFrame(y_train,columns = ['label'])\n",
    "y_test = pd.DataFrame(y_test,columns = ['label'])\n",
    "\n",
    "#Concatinating the DataFrames to form train and test data set which can be use for further training\n",
    "df_train = pd.concat([df_train,y_train],axis=1)\n",
    "df_test = pd.concat([df_test,y_test],axis=1)"
   ]
  },
  {
   "cell_type": "code",
   "execution_count": 14,
   "id": "30d3ba93",
   "metadata": {},
   "outputs": [
    {
     "data": {
      "text/html": [
       "<div>\n",
       "<style scoped>\n",
       "    .dataframe tbody tr th:only-of-type {\n",
       "        vertical-align: middle;\n",
       "    }\n",
       "\n",
       "    .dataframe tbody tr th {\n",
       "        vertical-align: top;\n",
       "    }\n",
       "\n",
       "    .dataframe thead th {\n",
       "        text-align: right;\n",
       "    }\n",
       "</style>\n",
       "<table border=\"1\" class=\"dataframe\">\n",
       "  <thead>\n",
       "    <tr style=\"text-align: right;\">\n",
       "      <th></th>\n",
       "      <th>1x1x1</th>\n",
       "      <th>1x1x2</th>\n",
       "      <th>1x1x3</th>\n",
       "      <th>1x1x4</th>\n",
       "      <th>1x1x5</th>\n",
       "      <th>1x1x6</th>\n",
       "      <th>1x1x7</th>\n",
       "      <th>1x1x8</th>\n",
       "      <th>1x1x9</th>\n",
       "      <th>1x1x10</th>\n",
       "      <th>...</th>\n",
       "      <th>3x150x142</th>\n",
       "      <th>3x150x143</th>\n",
       "      <th>3x150x144</th>\n",
       "      <th>3x150x145</th>\n",
       "      <th>3x150x146</th>\n",
       "      <th>3x150x147</th>\n",
       "      <th>3x150x148</th>\n",
       "      <th>3x150x149</th>\n",
       "      <th>3x150x150</th>\n",
       "      <th>label</th>\n",
       "    </tr>\n",
       "  </thead>\n",
       "  <tbody>\n",
       "    <tr>\n",
       "      <th>0</th>\n",
       "      <td>0.615686</td>\n",
       "      <td>0.239216</td>\n",
       "      <td>0.325490</td>\n",
       "      <td>0.627451</td>\n",
       "      <td>0.231373</td>\n",
       "      <td>0.321569</td>\n",
       "      <td>0.631373</td>\n",
       "      <td>0.223529</td>\n",
       "      <td>0.313726</td>\n",
       "      <td>0.631373</td>\n",
       "      <td>...</td>\n",
       "      <td>0.678431</td>\n",
       "      <td>0.615686</td>\n",
       "      <td>0.474510</td>\n",
       "      <td>0.694118</td>\n",
       "      <td>0.623529</td>\n",
       "      <td>0.454902</td>\n",
       "      <td>0.776471</td>\n",
       "      <td>0.701961</td>\n",
       "      <td>0.525490</td>\n",
       "      <td>1</td>\n",
       "    </tr>\n",
       "    <tr>\n",
       "      <th>1</th>\n",
       "      <td>0.921569</td>\n",
       "      <td>0.941177</td>\n",
       "      <td>0.952941</td>\n",
       "      <td>0.921569</td>\n",
       "      <td>0.941177</td>\n",
       "      <td>0.952941</td>\n",
       "      <td>0.921569</td>\n",
       "      <td>0.941177</td>\n",
       "      <td>0.952941</td>\n",
       "      <td>0.917647</td>\n",
       "      <td>...</td>\n",
       "      <td>0.996078</td>\n",
       "      <td>0.498039</td>\n",
       "      <td>0.133333</td>\n",
       "      <td>0.996078</td>\n",
       "      <td>0.498039</td>\n",
       "      <td>0.133333</td>\n",
       "      <td>0.988235</td>\n",
       "      <td>0.501961</td>\n",
       "      <td>0.125490</td>\n",
       "      <td>1</td>\n",
       "    </tr>\n",
       "    <tr>\n",
       "      <th>2</th>\n",
       "      <td>0.427451</td>\n",
       "      <td>0.552941</td>\n",
       "      <td>0.745098</td>\n",
       "      <td>0.423529</td>\n",
       "      <td>0.552941</td>\n",
       "      <td>0.749020</td>\n",
       "      <td>0.419608</td>\n",
       "      <td>0.545098</td>\n",
       "      <td>0.745098</td>\n",
       "      <td>0.419608</td>\n",
       "      <td>...</td>\n",
       "      <td>0.196078</td>\n",
       "      <td>0.196078</td>\n",
       "      <td>0.164706</td>\n",
       "      <td>0.192157</td>\n",
       "      <td>0.192157</td>\n",
       "      <td>0.168627</td>\n",
       "      <td>0.180392</td>\n",
       "      <td>0.184314</td>\n",
       "      <td>0.156863</td>\n",
       "      <td>1</td>\n",
       "    </tr>\n",
       "    <tr>\n",
       "      <th>3</th>\n",
       "      <td>0.400000</td>\n",
       "      <td>0.400000</td>\n",
       "      <td>0.392157</td>\n",
       "      <td>0.400000</td>\n",
       "      <td>0.400000</td>\n",
       "      <td>0.392157</td>\n",
       "      <td>0.411765</td>\n",
       "      <td>0.407843</td>\n",
       "      <td>0.400000</td>\n",
       "      <td>0.411765</td>\n",
       "      <td>...</td>\n",
       "      <td>0.517647</td>\n",
       "      <td>0.513726</td>\n",
       "      <td>0.494118</td>\n",
       "      <td>0.525490</td>\n",
       "      <td>0.521569</td>\n",
       "      <td>0.501961</td>\n",
       "      <td>0.525490</td>\n",
       "      <td>0.521569</td>\n",
       "      <td>0.501961</td>\n",
       "      <td>0</td>\n",
       "    </tr>\n",
       "    <tr>\n",
       "      <th>4</th>\n",
       "      <td>0.082353</td>\n",
       "      <td>0.007843</td>\n",
       "      <td>0.015686</td>\n",
       "      <td>0.082353</td>\n",
       "      <td>0.007843</td>\n",
       "      <td>0.015686</td>\n",
       "      <td>0.086275</td>\n",
       "      <td>0.011765</td>\n",
       "      <td>0.019608</td>\n",
       "      <td>0.078431</td>\n",
       "      <td>...</td>\n",
       "      <td>0.141176</td>\n",
       "      <td>0.113725</td>\n",
       "      <td>0.011765</td>\n",
       "      <td>0.137255</td>\n",
       "      <td>0.109804</td>\n",
       "      <td>0.007843</td>\n",
       "      <td>0.141176</td>\n",
       "      <td>0.101961</td>\n",
       "      <td>0.003922</td>\n",
       "      <td>0</td>\n",
       "    </tr>\n",
       "  </tbody>\n",
       "</table>\n",
       "<p>5 rows × 67501 columns</p>\n",
       "</div>"
      ],
      "text/plain": [
       "      1x1x1     1x1x2     1x1x3     1x1x4     1x1x5     1x1x6     1x1x7  \\\n",
       "0  0.615686  0.239216  0.325490  0.627451  0.231373  0.321569  0.631373   \n",
       "1  0.921569  0.941177  0.952941  0.921569  0.941177  0.952941  0.921569   \n",
       "2  0.427451  0.552941  0.745098  0.423529  0.552941  0.749020  0.419608   \n",
       "3  0.400000  0.400000  0.392157  0.400000  0.400000  0.392157  0.411765   \n",
       "4  0.082353  0.007843  0.015686  0.082353  0.007843  0.015686  0.086275   \n",
       "\n",
       "      1x1x8     1x1x9    1x1x10  ...  3x150x142  3x150x143  3x150x144  \\\n",
       "0  0.223529  0.313726  0.631373  ...   0.678431   0.615686   0.474510   \n",
       "1  0.941177  0.952941  0.917647  ...   0.996078   0.498039   0.133333   \n",
       "2  0.545098  0.745098  0.419608  ...   0.196078   0.196078   0.164706   \n",
       "3  0.407843  0.400000  0.411765  ...   0.517647   0.513726   0.494118   \n",
       "4  0.011765  0.019608  0.078431  ...   0.141176   0.113725   0.011765   \n",
       "\n",
       "   3x150x145  3x150x146  3x150x147  3x150x148  3x150x149  3x150x150  label  \n",
       "0   0.694118   0.623529   0.454902   0.776471   0.701961   0.525490      1  \n",
       "1   0.996078   0.498039   0.133333   0.988235   0.501961   0.125490      1  \n",
       "2   0.192157   0.192157   0.168627   0.180392   0.184314   0.156863      1  \n",
       "3   0.525490   0.521569   0.501961   0.525490   0.521569   0.501961      0  \n",
       "4   0.137255   0.109804   0.007843   0.141176   0.101961   0.003922      0  \n",
       "\n",
       "[5 rows x 67501 columns]"
      ]
     },
     "execution_count": 14,
     "metadata": {},
     "output_type": "execute_result"
    }
   ],
   "source": [
    "df_train.head()"
   ]
  },
  {
   "cell_type": "code",
   "execution_count": 15,
   "id": "bd670321",
   "metadata": {},
   "outputs": [],
   "source": [
    "#savingthe DataFrames in .csv format\n",
    "df_train.to_csv('train.csv',index=False)\n",
    "df_test.to_csv('test.csv',index=False)"
   ]
  },
  {
   "cell_type": "markdown",
   "id": "a6b491b0",
   "metadata": {},
   "source": [
    "### Training the Model"
   ]
  },
  {
   "cell_type": "code",
   "execution_count": 2,
   "id": "3eb86d51",
   "metadata": {},
   "outputs": [],
   "source": [
    "#Extracting the one dimensional data for logistic regression which takes linear data as input\n",
    "df_train = pd.read_csv('train.csv')\n",
    "df_test = pd.read_csv('test.csv')\n",
    "df_train = df_train.drop('Unnamed: 0',axis=1)\n",
    "df_test = df_test.drop('Unnamed: 0',axis=1)"
   ]
  },
  {
   "cell_type": "code",
   "execution_count": 3,
   "id": "4ab467fc",
   "metadata": {},
   "outputs": [],
   "source": [
    "#converting the regularized data into 150x150x3 regularized arrays\n",
    "y_train = np.array(df_train['label'])\n",
    "y_test = np.array(df_test['label'])\n",
    "\n",
    "df_train = np.array(df_train.drop('label',axis=1))\n",
    "df_test = np.array(df_test.drop('label',axis=1))\n",
    "\n",
    "X_train = []\n",
    "X_test = []\n",
    "\n",
    "for i in range(len(df_train)):\n",
    "    X_train.append(df_train[i].reshape(150,150,3))\n",
    "\n",
    "for i in range(len(df_test)):\n",
    "    X_test.append(df_test[i].reshape(150,150,3))\n",
    "    \n",
    "X_train = np.array(X_train,dtype='float32')\n",
    "X_test = np.array(X_test,dtype='float32')"
   ]
  },
  {
   "cell_type": "code",
   "execution_count": 4,
   "id": "b9aa7a5d",
   "metadata": {},
   "outputs": [],
   "source": [
    "#Extracting the one dimensional data for logistic regression which takes linear data as input\n",
    "df_train = pd.read_csv('train.csv')\n",
    "df_test = pd.read_csv('test.csv')\n",
    "df_train = df_train.drop('Unnamed: 0',axis=1)\n",
    "df_test = df_test.drop('Unnamed: 0',axis=1)"
   ]
  },
  {
   "cell_type": "code",
   "execution_count": 9,
   "id": "ed5b9344",
   "metadata": {},
   "outputs": [],
   "source": [
    "X_lr_train = df_train[col]\n",
    "X_lr_test = df_test[col]\n",
    "y_lr_train = df_train['label']\n",
    "y_lr_test = df_test['label']"
   ]
  },
  {
   "cell_type": "code",
   "execution_count": 10,
   "id": "aaed7396",
   "metadata": {},
   "outputs": [
    {
     "data": {
      "text/plain": [
       "1    1736\n",
       "0    1560\n",
       "Name: label, dtype: int64"
      ]
     },
     "execution_count": 10,
     "metadata": {},
     "output_type": "execute_result"
    }
   ],
   "source": [
    "y_lr_train.value_counts()"
   ]
  },
  {
   "cell_type": "code",
   "execution_count": 11,
   "id": "e5fe65bb",
   "metadata": {},
   "outputs": [
    {
     "data": {
      "text/plain": [
       "1    421\n",
       "0    403\n",
       "Name: label, dtype: int64"
      ]
     },
     "execution_count": 11,
     "metadata": {},
     "output_type": "execute_result"
    }
   ],
   "source": [
    "y_lr_test.value_counts()"
   ]
  },
  {
   "cell_type": "markdown",
   "id": "7ec9c559",
   "metadata": {},
   "source": [
    "#### Logistic Regression"
   ]
  },
  {
   "cell_type": "code",
   "execution_count": 25,
   "id": "436ab399",
   "metadata": {},
   "outputs": [],
   "source": [
    "#training the logistic regression model\n",
    "from sklearn.linear_model import LogisticRegression\n",
    "\n",
    "model_lr = LogisticRegression(max_iter=10000000000000000)\n",
    "model_lr.fit(X_lr_train,y_lr_train)\n",
    "pred = model_lr.predict(X_lr_test)"
   ]
  },
  {
   "cell_type": "code",
   "execution_count": 15,
   "id": "285fb0b2",
   "metadata": {},
   "outputs": [],
   "source": [
    "from sklearn.metrics import f1_score,accuracy_score,confusion_matrix,classification_report"
   ]
  },
  {
   "cell_type": "code",
   "execution_count": 27,
   "id": "36700ed5",
   "metadata": {},
   "outputs": [
    {
     "name": "stdout",
     "output_type": "stream",
     "text": [
      "0.9167643610785463\n",
      "\n",
      "0.9138349514563107\n",
      "\n",
      "[[362  41]\n",
      " [ 30 391]]\n",
      "\n",
      "              precision    recall  f1-score   support\n",
      "\n",
      "           0       0.92      0.90      0.91       403\n",
      "           1       0.91      0.93      0.92       421\n",
      "\n",
      "    accuracy                           0.91       824\n",
      "   macro avg       0.91      0.91      0.91       824\n",
      "weighted avg       0.91      0.91      0.91       824\n",
      "\n"
     ]
    }
   ],
   "source": [
    "print(f1_score(y_lr_test,pred))\n",
    "print()\n",
    "print(accuracy_score(y_lr_test,pred))\n",
    "print()\n",
    "print(confusion_matrix(y_lr_test,pred))\n",
    "print()\n",
    "print(classification_report(y_lr_test,pred))"
   ]
  },
  {
   "cell_type": "markdown",
   "id": "2728d4c7",
   "metadata": {},
   "source": [
    "#### KNN"
   ]
  },
  {
   "cell_type": "code",
   "execution_count": 28,
   "id": "8419ae33",
   "metadata": {},
   "outputs": [],
   "source": [
    "from sklearn.neighbors import KNeighborsClassifier"
   ]
  },
  {
   "cell_type": "code",
   "execution_count": 29,
   "id": "e83a2dad",
   "metadata": {},
   "outputs": [],
   "source": [
    "model = KNeighborsClassifier()\n",
    "model.fit(X_lr_train,y_lr_train)\n",
    "pred = model.predict(X_lr_test)"
   ]
  },
  {
   "cell_type": "code",
   "execution_count": 30,
   "id": "df1b0478",
   "metadata": {},
   "outputs": [
    {
     "name": "stdout",
     "output_type": "stream",
     "text": [
      "0.8067885117493473\n",
      "\n",
      "0.8203883495145631\n",
      "\n",
      "[[367  36]\n",
      " [112 309]]\n",
      "\n",
      "              precision    recall  f1-score   support\n",
      "\n",
      "           0       0.77      0.91      0.83       403\n",
      "           1       0.90      0.73      0.81       421\n",
      "\n",
      "    accuracy                           0.82       824\n",
      "   macro avg       0.83      0.82      0.82       824\n",
      "weighted avg       0.83      0.82      0.82       824\n",
      "\n"
     ]
    }
   ],
   "source": [
    "print(f1_score(y_lr_test,pred))\n",
    "print()\n",
    "print(accuracy_score(y_lr_test,pred))\n",
    "print()\n",
    "print(confusion_matrix(y_lr_test,pred))\n",
    "print()\n",
    "print(classification_report(y_lr_test,pred))"
   ]
  },
  {
   "cell_type": "markdown",
   "id": "afaa3403",
   "metadata": {},
   "source": [
    "##### SVM"
   ]
  },
  {
   "cell_type": "code",
   "execution_count": 19,
   "id": "e4bb5e7e",
   "metadata": {},
   "outputs": [],
   "source": [
    "from sklearn.svm import SVC"
   ]
  },
  {
   "cell_type": "code",
   "execution_count": 25,
   "id": "1fceeaea",
   "metadata": {},
   "outputs": [],
   "source": [
    "model = SVC(C=10)\n",
    "model.fit(X_lr_train,y_lr_train)\n",
    "pred = model.predict(X_lr_test)"
   ]
  },
  {
   "cell_type": "code",
   "execution_count": 26,
   "id": "1570b75b",
   "metadata": {},
   "outputs": [
    {
     "name": "stdout",
     "output_type": "stream",
     "text": [
      "0.9385342789598109\n",
      "\n",
      "0.9368932038834952\n",
      "\n",
      "[[375  28]\n",
      " [ 24 397]]\n",
      "\n",
      "              precision    recall  f1-score   support\n",
      "\n",
      "           0       0.94      0.93      0.94       403\n",
      "           1       0.93      0.94      0.94       421\n",
      "\n",
      "    accuracy                           0.94       824\n",
      "   macro avg       0.94      0.94      0.94       824\n",
      "weighted avg       0.94      0.94      0.94       824\n",
      "\n"
     ]
    }
   ],
   "source": [
    "print(f1_score(y_lr_test,pred))\n",
    "print()\n",
    "print(accuracy_score(y_lr_test,pred))\n",
    "print()\n",
    "print(confusion_matrix(y_lr_test,pred))\n",
    "print()\n",
    "print(classification_report(y_lr_test,pred))"
   ]
  },
  {
   "cell_type": "markdown",
   "id": "5edd1da1",
   "metadata": {},
   "source": [
    "##### Decision Tree"
   ]
  },
  {
   "cell_type": "code",
   "execution_count": 27,
   "id": "596366d1",
   "metadata": {},
   "outputs": [],
   "source": [
    "from sklearn.tree import DecisionTreeClassifier"
   ]
  },
  {
   "cell_type": "code",
   "execution_count": 28,
   "id": "fde38260",
   "metadata": {},
   "outputs": [],
   "source": [
    "model = DecisionTreeClassifier()\n",
    "model.fit(X_lr_train,y_lr_train)\n",
    "pred = model.predict(X_lr_test)"
   ]
  },
  {
   "cell_type": "code",
   "execution_count": 29,
   "id": "cb7422a7",
   "metadata": {},
   "outputs": [
    {
     "name": "stdout",
     "output_type": "stream",
     "text": [
      "0.8110047846889954\n",
      "\n",
      "0.808252427184466\n",
      "\n",
      "[[327  76]\n",
      " [ 82 339]]\n",
      "\n",
      "              precision    recall  f1-score   support\n",
      "\n",
      "           0       0.80      0.81      0.81       403\n",
      "           1       0.82      0.81      0.81       421\n",
      "\n",
      "    accuracy                           0.81       824\n",
      "   macro avg       0.81      0.81      0.81       824\n",
      "weighted avg       0.81      0.81      0.81       824\n",
      "\n"
     ]
    }
   ],
   "source": [
    "print(f1_score(y_lr_test,pred))\n",
    "print()\n",
    "print(accuracy_score(y_lr_test,pred))\n",
    "print()\n",
    "print(confusion_matrix(y_lr_test,pred))\n",
    "print()\n",
    "print(classification_report(y_lr_test,pred))"
   ]
  },
  {
   "cell_type": "markdown",
   "id": "a15dd152",
   "metadata": {},
   "source": [
    "##### Bagging Decision Tree"
   ]
  },
  {
   "cell_type": "code",
   "execution_count": 12,
   "id": "788a0b22",
   "metadata": {},
   "outputs": [],
   "source": [
    "from sklearn.ensemble import BaggingClassifier\n",
    "from sklearn.tree import DecisionTreeClassifier"
   ]
  },
  {
   "cell_type": "code",
   "execution_count": 13,
   "id": "c658fc98",
   "metadata": {},
   "outputs": [],
   "source": [
    "model = BaggingClassifier(DecisionTreeClassifier(),max_samples=0.5,max_features=1.0,n_estimators=10)\n",
    "model.fit(X_lr_train, y_lr_train)\n",
    "pred = model.predict(X_lr_test)"
   ]
  },
  {
   "cell_type": "code",
   "execution_count": 16,
   "id": "b79d785c",
   "metadata": {},
   "outputs": [
    {
     "name": "stdout",
     "output_type": "stream",
     "text": [
      "0.8781065088757397\n",
      "\n",
      "0.875\n",
      "\n",
      "[[350  53]\n",
      " [ 50 371]]\n",
      "\n",
      "              precision    recall  f1-score   support\n",
      "\n",
      "           0       0.88      0.87      0.87       403\n",
      "           1       0.88      0.88      0.88       421\n",
      "\n",
      "    accuracy                           0.88       824\n",
      "   macro avg       0.88      0.87      0.87       824\n",
      "weighted avg       0.88      0.88      0.87       824\n",
      "\n"
     ]
    }
   ],
   "source": [
    "print(f1_score(y_lr_test,pred))\n",
    "print()\n",
    "print(accuracy_score(y_lr_test,pred))\n",
    "print()\n",
    "print(confusion_matrix(y_lr_test,pred))\n",
    "print()\n",
    "print(classification_report(y_lr_test,pred))"
   ]
  },
  {
   "cell_type": "markdown",
   "id": "8c7b235a",
   "metadata": {},
   "source": [
    "##### Boosting Decision Tree"
   ]
  },
  {
   "cell_type": "code",
   "execution_count": 17,
   "id": "bf19ebab",
   "metadata": {},
   "outputs": [],
   "source": [
    "from sklearn.ensemble import AdaBoostClassifier\n",
    "from sklearn.tree import DecisionTreeClassifier"
   ]
  },
  {
   "cell_type": "code",
   "execution_count": 18,
   "id": "43c1217f",
   "metadata": {},
   "outputs": [],
   "source": [
    "model = AdaBoostClassifier(DecisionTreeClassifier(min_samples_split=10,max_depth=4),n_estimators=10,learning_rate=0.6)\n",
    "model.fit(X_lr_train, y_lr_train)\n",
    "pred = model.predict(X_lr_test)"
   ]
  },
  {
   "cell_type": "code",
   "execution_count": 61,
   "id": "c8789992",
   "metadata": {},
   "outputs": [
    {
     "name": "stdout",
     "output_type": "stream",
     "text": [
      "0.9121621621621622\n",
      "\n",
      "0.9024390243902439\n",
      "\n",
      "[[211  24]\n",
      " [ 28 270]]\n",
      "\n",
      "              precision    recall  f1-score   support\n",
      "\n",
      "           0       0.88      0.90      0.89       235\n",
      "           1       0.92      0.91      0.91       298\n",
      "\n",
      "    accuracy                           0.90       533\n",
      "   macro avg       0.90      0.90      0.90       533\n",
      "weighted avg       0.90      0.90      0.90       533\n",
      "\n"
     ]
    }
   ],
   "source": [
    "print(f1_score(y_lr_test,pred))\n",
    "print()\n",
    "print(accuracy_score(y_lr_test,pred))\n",
    "print()\n",
    "print(confusion_matrix(y_lr_test,pred))\n",
    "print()\n",
    "print(classification_report(y_lr_test,pred))"
   ]
  },
  {
   "cell_type": "markdown",
   "id": "07efcdba",
   "metadata": {},
   "source": [
    "##### Random Forest Classifier"
   ]
  },
  {
   "cell_type": "code",
   "execution_count": 19,
   "id": "f63e95f5",
   "metadata": {},
   "outputs": [],
   "source": [
    "from sklearn.ensemble import RandomForestClassifier"
   ]
  },
  {
   "cell_type": "code",
   "execution_count": 20,
   "id": "08528365",
   "metadata": {},
   "outputs": [],
   "source": [
    "model = RandomForestClassifier()\n",
    "model.fit(X_lr_train,y_lr_train)\n",
    "pred = model.predict(X_lr_test)"
   ]
  },
  {
   "cell_type": "code",
   "execution_count": 21,
   "id": "19dcf253",
   "metadata": {},
   "outputs": [
    {
     "name": "stdout",
     "output_type": "stream",
     "text": [
      "0.9192982456140352\n",
      "\n",
      "0.9162621359223301\n",
      "\n",
      "[[362  41]\n",
      " [ 28 393]]\n",
      "\n",
      "              precision    recall  f1-score   support\n",
      "\n",
      "           0       0.93      0.90      0.91       403\n",
      "           1       0.91      0.93      0.92       421\n",
      "\n",
      "    accuracy                           0.92       824\n",
      "   macro avg       0.92      0.92      0.92       824\n",
      "weighted avg       0.92      0.92      0.92       824\n",
      "\n"
     ]
    }
   ],
   "source": [
    "print(f1_score(y_lr_test,pred))\n",
    "print()\n",
    "print(accuracy_score(y_lr_test,pred))\n",
    "print()\n",
    "print(confusion_matrix(y_lr_test,pred))\n",
    "print()\n",
    "print(classification_report(y_lr_test,pred))"
   ]
  },
  {
   "cell_type": "markdown",
   "id": "4b83e26e",
   "metadata": {},
   "source": [
    "##### XG Boost"
   ]
  },
  {
   "cell_type": "code",
   "execution_count": 22,
   "id": "11564ab1",
   "metadata": {},
   "outputs": [],
   "source": [
    "import xgboost as xgb"
   ]
  },
  {
   "cell_type": "code",
   "execution_count": 23,
   "id": "9c8a5d9a",
   "metadata": {},
   "outputs": [],
   "source": [
    "model = xgb.XGBClassifier()\n",
    "model.fit(X_lr_train,y_lr_train)\n",
    "pred = model.predict(X_lr_test)"
   ]
  },
  {
   "cell_type": "code",
   "execution_count": 24,
   "id": "767740df",
   "metadata": {},
   "outputs": [
    {
     "name": "stdout",
     "output_type": "stream",
     "text": [
      "0.9312796208530806\n",
      "\n",
      "0.9296116504854369\n",
      "\n",
      "[[373  30]\n",
      " [ 28 393]]\n",
      "\n",
      "              precision    recall  f1-score   support\n",
      "\n",
      "           0       0.93      0.93      0.93       403\n",
      "           1       0.93      0.93      0.93       421\n",
      "\n",
      "    accuracy                           0.93       824\n",
      "   macro avg       0.93      0.93      0.93       824\n",
      "weighted avg       0.93      0.93      0.93       824\n",
      "\n"
     ]
    }
   ],
   "source": [
    "print(f1_score(y_lr_test,pred))\n",
    "print()\n",
    "print(accuracy_score(y_lr_test,pred))\n",
    "print()\n",
    "print(confusion_matrix(y_lr_test,pred))\n",
    "print()\n",
    "print(classification_report(y_lr_test,pred))"
   ]
  },
  {
   "cell_type": "code",
   "execution_count": 27,
   "id": "613d45da",
   "metadata": {},
   "outputs": [
    {
     "name": "stdout",
     "output_type": "stream",
     "text": [
      "(3296, 150, 150, 3)\n",
      "(824, 150, 150, 3)\n",
      "(3296,)\n",
      "(824,)\n"
     ]
    }
   ],
   "source": [
    "print(X_train.shape)\n",
    "print(X_test.shape)\n",
    "print(y_train.shape)\n",
    "print(y_test.shape)"
   ]
  },
  {
   "cell_type": "markdown",
   "id": "819e7e27",
   "metadata": {},
   "source": [
    "### A Convolutional Neural Network"
   ]
  },
  {
   "cell_type": "markdown",
   "id": "f5dcbb12",
   "metadata": {},
   "source": [
    "#### VGG-16"
   ]
  },
  {
   "cell_type": "code",
   "execution_count": null,
   "id": "a969f257",
   "metadata": {},
   "outputs": [],
   "source": [
    "'''\n",
    "from tensorflow.keras.applications.vgg16 import VGG16\n",
    "import tensorflow as tf\n",
    "import tensorflow.keras.layers as tfl\n",
    "from keras import models\n",
    "\n",
    "base_model = VGG16(input_shape = (150, 150, 3), include_top = False, weights = 'imagenet')\n",
    "\n",
    "for layer in base_model.layers:\n",
    "    layer.trainable = False\n",
    "    \n",
    "x = tfl.Flatten()(base_model.output)\n",
    "x =tfl.Dense(512, activation='relu')(x)\n",
    "x = tfl.Dropout(0.5)(x)\n",
    "x = tfl.Dense(1, activation='sigmoid')(x)\n",
    "\n",
    "model = tf.keras.models.Model(base_model.input, x)\n",
    "\n",
    "model.summary()\n",
    "\n",
    "model.compile(optimizer = tf.keras.optimizers.RMSprop(learning_rate=0.0001), loss = 'binary_crossentropy',metrics = ['accuracy'])\n",
    "\n",
    "history = model.fit(X_train,y_train, validation_data = (X_test,y_test), epochs = 9)\n",
    "\n",
    "pred = (model.predict(X_test)>0.5).astype('int32')\n",
    "\n",
    "print(f1_score(y_test,pred))\n",
    "print()\n",
    "print(accuracy_score(y_test,pred))\n",
    "print()\n",
    "print(confusion_matrix(y_test,pred))\n",
    "print()\n",
    "print(classification_report(y_test,pred))\n",
    "\n",
    "val_loss = pd.DataFrame(history.history['val_loss'])\n",
    "loss = pd.DataFrame(history.history['loss'])\n",
    "losses = pd.concat([loss,val_loss],axis=1)\n",
    "losses.columns=['loss','val_loss']\n",
    "\n",
    "losses[['val_loss','loss']].plot()\n",
    "\n",
    "plt.figure(figsize=(12,7))\n",
    "plt.subplot(2,1,1)\n",
    "plt.title('Cross Entropy Loss')\n",
    "plt.plot(history.history['loss'],color='blue',label='train')\n",
    "plt.plot(history.history['val_loss'],color='orange',label='test')\n",
    "                \n",
    "plt.subplot(2,1,2)\n",
    "plt.title('Classification Accuracy')\n",
    "plt.plot(history.history['accuracy'],color='blue',label='train')\n",
    "plt.plot(history.history['val_accuracy'],color='orange',label='test')\n",
    "\n",
    "from sklearn.metrics import roc_curve,auc\n",
    "fpr, tpr, _ = roc_curve(y_test, pred)\n",
    "roc_auc = auc(fpr, tpr)\n",
    "plt.figure()\n",
    "lw = 2\n",
    "plt.plot(fpr, tpr, color='darkorange',\n",
    "lw=lw, label='ROC curve (area = %0.2f)' % roc_auc)\n",
    "plt.plot([0, 1], [0, 1], color='navy', lw=lw, linestyle='--')\n",
    "plt.xlim([0.0, 1.0])\n",
    "plt.ylim([0.0, 1.05])\n",
    "plt.xlabel('False Positive Rate')\n",
    "plt.ylabel('True Positive Rate')\n",
    "plt.title('Receiver operating characteristic example')\n",
    "plt.legend(loc=\"lower right\")\n",
    "plt.show()\n",
    "\n",
    "model.save('Mask_Detection.h5')\n",
    "'''"
   ]
  },
  {
   "cell_type": "code",
   "execution_count": 37,
   "id": "96c888ed",
   "metadata": {},
   "outputs": [],
   "source": [
    "from tensorflow.keras.applications.vgg16 import VGG16\n",
    "import tensorflow as tf\n",
    "import tensorflow.keras.layers as tfl\n",
    "from keras import models\n",
    "from tensorflow.keras.callbacks import EarlyStopping"
   ]
  },
  {
   "cell_type": "code",
   "execution_count": 30,
   "id": "094312f8",
   "metadata": {},
   "outputs": [],
   "source": [
    "base_model = VGG16(input_shape = (150, 150, 3), include_top = False, weights = 'imagenet')"
   ]
  },
  {
   "cell_type": "code",
   "execution_count": 31,
   "id": "8e089c59",
   "metadata": {},
   "outputs": [],
   "source": [
    "for layer in base_model.layers:\n",
    "    layer.trainable = False"
   ]
  },
  {
   "cell_type": "code",
   "execution_count": 33,
   "id": "485dc65b",
   "metadata": {},
   "outputs": [],
   "source": [
    "x = tfl.Flatten()(base_model.output)\n",
    "x =tfl.Dense(512, activation='relu')(x)\n",
    "x = tfl.Dropout(0.5)(x)\n",
    "x = tfl.Dense(1, activation='sigmoid')(x)\n",
    "\n",
    "model = tf.keras.models.Model(base_model.input, x)"
   ]
  },
  {
   "cell_type": "code",
   "execution_count": null,
   "id": "cecaa841",
   "metadata": {},
   "outputs": [],
   "source": [
    "earlystop = EarlyStopping(monitor='val_loss', patience = 3)"
   ]
  },
  {
   "cell_type": "code",
   "execution_count": 34,
   "id": "5dc44e5a",
   "metadata": {},
   "outputs": [
    {
     "name": "stdout",
     "output_type": "stream",
     "text": [
      "Model: \"model\"\n",
      "_________________________________________________________________\n",
      " Layer (type)                Output Shape              Param #   \n",
      "=================================================================\n",
      " input_1 (InputLayer)        [(None, 150, 150, 3)]     0         \n",
      "                                                                 \n",
      " block1_conv1 (Conv2D)       (None, 150, 150, 64)      1792      \n",
      "                                                                 \n",
      " block1_conv2 (Conv2D)       (None, 150, 150, 64)      36928     \n",
      "                                                                 \n",
      " block1_pool (MaxPooling2D)  (None, 75, 75, 64)        0         \n",
      "                                                                 \n",
      " block2_conv1 (Conv2D)       (None, 75, 75, 128)       73856     \n",
      "                                                                 \n",
      " block2_conv2 (Conv2D)       (None, 75, 75, 128)       147584    \n",
      "                                                                 \n",
      " block2_pool (MaxPooling2D)  (None, 37, 37, 128)       0         \n",
      "                                                                 \n",
      " block3_conv1 (Conv2D)       (None, 37, 37, 256)       295168    \n",
      "                                                                 \n",
      " block3_conv2 (Conv2D)       (None, 37, 37, 256)       590080    \n",
      "                                                                 \n",
      " block3_conv3 (Conv2D)       (None, 37, 37, 256)       590080    \n",
      "                                                                 \n",
      " block3_pool (MaxPooling2D)  (None, 18, 18, 256)       0         \n",
      "                                                                 \n",
      " block4_conv1 (Conv2D)       (None, 18, 18, 512)       1180160   \n",
      "                                                                 \n",
      " block4_conv2 (Conv2D)       (None, 18, 18, 512)       2359808   \n",
      "                                                                 \n",
      " block4_conv3 (Conv2D)       (None, 18, 18, 512)       2359808   \n",
      "                                                                 \n",
      " block4_pool (MaxPooling2D)  (None, 9, 9, 512)         0         \n",
      "                                                                 \n",
      " block5_conv1 (Conv2D)       (None, 9, 9, 512)         2359808   \n",
      "                                                                 \n",
      " block5_conv2 (Conv2D)       (None, 9, 9, 512)         2359808   \n",
      "                                                                 \n",
      " block5_conv3 (Conv2D)       (None, 9, 9, 512)         2359808   \n",
      "                                                                 \n",
      " block5_pool (MaxPooling2D)  (None, 4, 4, 512)         0         \n",
      "                                                                 \n",
      " flatten (Flatten)           (None, 8192)              0         \n",
      "                                                                 \n",
      " dense (Dense)               (None, 512)               4194816   \n",
      "                                                                 \n",
      " dropout (Dropout)           (None, 512)               0         \n",
      "                                                                 \n",
      " dense_1 (Dense)             (None, 1)                 513       \n",
      "                                                                 \n",
      "=================================================================\n",
      "Total params: 18,910,017\n",
      "Trainable params: 4,195,329\n",
      "Non-trainable params: 14,714,688\n",
      "_________________________________________________________________\n"
     ]
    }
   ],
   "source": [
    "model.summary()"
   ]
  },
  {
   "cell_type": "code",
   "execution_count": 35,
   "id": "e5371a20",
   "metadata": {},
   "outputs": [],
   "source": [
    "model.compile(optimizer = tf.keras.optimizers.RMSprop(learning_rate=0.0001), loss = 'binary_crossentropy',metrics = ['accuracy'])"
   ]
  },
  {
   "cell_type": "code",
   "execution_count": 36,
   "id": "28bdbd8a",
   "metadata": {
    "scrolled": false
   },
   "outputs": [
    {
     "name": "stdout",
     "output_type": "stream",
     "text": [
      "Epoch 1/9\n",
      "103/103 [==============================] - 262s 3s/step - loss: 0.2025 - accuracy: 0.9211 - val_loss: 0.1106 - val_accuracy: 0.9575\n",
      "Epoch 2/9\n",
      "103/103 [==============================] - 260s 3s/step - loss: 0.1063 - accuracy: 0.9596 - val_loss: 0.0706 - val_accuracy: 0.9733\n",
      "Epoch 3/9\n",
      "103/103 [==============================] - 266s 3s/step - loss: 0.0840 - accuracy: 0.9681 - val_loss: 0.0675 - val_accuracy: 0.9757\n",
      "Epoch 4/9\n",
      "103/103 [==============================] - 246s 2s/step - loss: 0.0712 - accuracy: 0.9721 - val_loss: 0.0748 - val_accuracy: 0.9660\n",
      "Epoch 5/9\n",
      "103/103 [==============================] - 246s 2s/step - loss: 0.0573 - accuracy: 0.9791 - val_loss: 0.0640 - val_accuracy: 0.9757\n",
      "Epoch 6/9\n",
      "103/103 [==============================] - 247s 2s/step - loss: 0.0534 - accuracy: 0.9821 - val_loss: 0.0619 - val_accuracy: 0.9769\n",
      "Epoch 7/9\n",
      "103/103 [==============================] - 245s 2s/step - loss: 0.0455 - accuracy: 0.9848 - val_loss: 0.0738 - val_accuracy: 0.9733\n",
      "Epoch 8/9\n",
      "103/103 [==============================] - 244s 2s/step - loss: 0.0367 - accuracy: 0.9873 - val_loss: 0.0796 - val_accuracy: 0.9709\n",
      "Epoch 9/9\n",
      "103/103 [==============================] - 245s 2s/step - loss: 0.0326 - accuracy: 0.9885 - val_loss: 0.0646 - val_accuracy: 0.9733\n"
     ]
    }
   ],
   "source": [
    "history = model.fit(X_train,y_train, validation_data = (X_test,y_test), epochs = 9, callbacks = earlystop)"
   ]
  },
  {
   "cell_type": "code",
   "execution_count": 38,
   "id": "df388dd7",
   "metadata": {},
   "outputs": [
    {
     "name": "stdout",
     "output_type": "stream",
     "text": [
      "26/26 [==============================] - 48s 2s/step - loss: 0.0646 - accuracy: 0.9733\n"
     ]
    },
    {
     "data": {
      "text/plain": [
       "[0.06463838368654251, 0.9733009934425354]"
      ]
     },
     "execution_count": 38,
     "metadata": {},
     "output_type": "execute_result"
    }
   ],
   "source": [
    "model.evaluate(X_test,y_test)"
   ]
  },
  {
   "cell_type": "markdown",
   "id": "19fc9855",
   "metadata": {},
   "source": [
    "Evaluating the CNN model"
   ]
  },
  {
   "cell_type": "code",
   "execution_count": 30,
   "id": "0d147c45",
   "metadata": {},
   "outputs": [
    {
     "name": "stdout",
     "output_type": "stream",
     "text": [
      "17/17 [==============================] - 34s 2s/step\n"
     ]
    }
   ],
   "source": [
    "pred = (model.predict(X_test)>0.5).astype('int32')"
   ]
  },
  {
   "cell_type": "code",
   "execution_count": 39,
   "id": "3da1fc0c",
   "metadata": {},
   "outputs": [],
   "source": [
    "from sklearn.metrics import f1_score,accuracy_score,confusion_matrix,classification_report"
   ]
  },
  {
   "cell_type": "code",
   "execution_count": 40,
   "id": "819ad203",
   "metadata": {},
   "outputs": [
    {
     "name": "stdout",
     "output_type": "stream",
     "text": [
      "0.9312796208530806\n",
      "\n",
      "0.9296116504854369\n",
      "\n",
      "[[373  30]\n",
      " [ 28 393]]\n",
      "\n",
      "              precision    recall  f1-score   support\n",
      "\n",
      "           0       0.93      0.93      0.93       403\n",
      "           1       0.93      0.93      0.93       421\n",
      "\n",
      "    accuracy                           0.93       824\n",
      "   macro avg       0.93      0.93      0.93       824\n",
      "weighted avg       0.93      0.93      0.93       824\n",
      "\n"
     ]
    }
   ],
   "source": [
    "print(f1_score(y_test,pred))\n",
    "print()\n",
    "print(accuracy_score(y_test,pred))\n",
    "print()\n",
    "print(confusion_matrix(y_test,pred))\n",
    "print()\n",
    "print(classification_report(y_test,pred))"
   ]
  },
  {
   "cell_type": "code",
   "execution_count": 41,
   "id": "d04c16ed",
   "metadata": {},
   "outputs": [],
   "source": [
    "val_loss = pd.DataFrame(history.history['val_loss'])\n",
    "loss = pd.DataFrame(history.history['loss'])\n",
    "accuracy = pd.DataFrame(history.history['accuracy'])\n",
    "val_accuracy = pd.DataFrame(history.history['val_accuracy'])\n",
    "losses = pd.concat([loss,val_loss,accuracy,val_accuracy],axis=1)\n",
    "losses.columns=['loss','val_loss','accuracy','val_accuracy']"
   ]
  },
  {
   "cell_type": "code",
   "execution_count": 42,
   "id": "31eaa7bb",
   "metadata": {},
   "outputs": [
    {
     "data": {
      "text/plain": [
       "<AxesSubplot:>"
      ]
     },
     "execution_count": 42,
     "metadata": {},
     "output_type": "execute_result"
    },
    {
     "data": {
      "image/png": "[encoded data removed]",
      "text/plain": [
       "<Figure size 432x288 with 1 Axes>"
      ]
     },
     "metadata": {
      "needs_background": "light"
     },
     "output_type": "display_data"
    }
   ],
   "source": [
    "losses.plot()"
   ]
  },
  {
   "cell_type": "code",
   "execution_count": 43,
   "id": "a321c5c7",
   "metadata": {},
   "outputs": [
    {
     "data": {
      "text/plain": [
       "[<matplotlib.lines.Line2D at 0x2542b6c0fd0>]"
      ]
     },
     "execution_count": 43,
     "metadata": {},
     "output_type": "execute_result"
    },
    {
     "data": {
      "image/png": "[encoded data removed]",
      "text/plain": [
       "<Figure size 864x504 with 2 Axes>"
      ]
     },
     "metadata": {
      "needs_background": "light"
     },
     "output_type": "display_data"
    }
   ],
   "source": [
    "plt.figure(figsize=(12,7))\n",
    "plt.subplot(2,1,1)\n",
    "plt.title('Cross Entropy Loss')\n",
    "plt.plot(history.history['loss'],color='blue',label='train')\n",
    "plt.plot(history.history['val_loss'],color='orange',label='test')\n",
    "                \n",
    "plt.subplot(2,1,2)\n",
    "plt.title('Classification Accuracy')\n",
    "plt.plot(history.history['accuracy'],color='blue',label='train')\n",
    "plt.plot(history.history['val_accuracy'],color='orange',label='test')"
   ]
  },
  {
   "cell_type": "code",
   "execution_count": 44,
   "id": "32f765c7",
   "metadata": {},
   "outputs": [
    {
     "data": {
      "image/png": "[encoded data removed]",
      "text/plain": [
       "<Figure size 432x288 with 1 Axes>"
      ]
     },
     "metadata": {
      "needs_background": "light"
     },
     "output_type": "display_data"
    }
   ],
   "source": [
    "from sklearn.metrics import roc_curve,auc\n",
    "fpr, tpr, _ = roc_curve(y_test, pred)\n",
    "roc_auc = auc(fpr, tpr)\n",
    "plt.figure()\n",
    "lw = 2\n",
    "plt.plot(fpr, tpr, color='darkorange',\n",
    "lw=lw, label='ROC curve (area = %0.2f)' % roc_auc)\n",
    "plt.plot([0, 1], [0, 1], color='navy', lw=lw, linestyle='--')\n",
    "plt.xlim([0.0, 1.0])\n",
    "plt.ylim([0.0, 1.05])\n",
    "plt.xlabel('False Positive Rate')\n",
    "plt.ylabel('True Positive Rate')\n",
    "plt.title('Receiver operating characteristic example')\n",
    "plt.legend(loc=\"lower right\")\n",
    "plt.show()"
   ]
  },
  {
   "cell_type": "markdown",
   "id": "85ab7c5c",
   "metadata": {},
   "source": [
    "Saving the model"
   ]
  },
  {
   "cell_type": "code",
   "execution_count": 45,
   "id": "fb4d15c6",
   "metadata": {},
   "outputs": [],
   "source": [
    "model.save('Mask_Detection.h5')"
   ]
  },
  {
   "cell_type": "markdown",
   "id": "ac94aa6b",
   "metadata": {},
   "source": [
    "#### VGG-19"
   ]
  },
  {
   "cell_type": "code",
   "execution_count": 47,
   "id": "6cc5c032",
   "metadata": {},
   "outputs": [],
   "source": [
    "from tensorflow.keras.applications.vgg19 import VGG19\n",
    "import tensorflow as tf\n",
    "import tensorflow.keras.layers as tfl\n",
    "from keras import models\n",
    "from tensorflow.keras.callbacks import EarlyStopping"
   ]
  },
  {
   "cell_type": "code",
   "execution_count": 48,
   "id": "0286be80",
   "metadata": {},
   "outputs": [],
   "source": [
    "base_model = VGG19(input_shape = (150, 150, 3), include_top = False, weights = 'imagenet')"
   ]
  },
  {
   "cell_type": "code",
   "execution_count": 49,
   "id": "cb03f68a",
   "metadata": {},
   "outputs": [],
   "source": [
    "for layer in base_model.layers:\n",
    "    layer.trainable = False"
   ]
  },
  {
   "cell_type": "code",
   "execution_count": 50,
   "id": "25123237",
   "metadata": {},
   "outputs": [],
   "source": [
    "x = tfl.Flatten()(base_model.output)\n",
    "x =tfl.Dense(512, activation='relu')(x)\n",
    "x = tfl.Dropout(0.5)(x)\n",
    "x = tfl.Dense(1, activation='sigmoid')(x)"
   ]
  },
  {
   "cell_type": "code",
   "execution_count": 51,
   "id": "4cc253b4",
   "metadata": {},
   "outputs": [],
   "source": [
    "model = tf.keras.models.Model(base_model.input, x)"
   ]
  },
  {
   "cell_type": "code",
   "execution_count": 52,
   "id": "41d4d8ae",
   "metadata": {},
   "outputs": [
    {
     "name": "stdout",
     "output_type": "stream",
     "text": [
      "Model: \"model_1\"\n",
      "_________________________________________________________________\n",
      " Layer (type)                Output Shape              Param #   \n",
      "=================================================================\n",
      " input_2 (InputLayer)        [(None, 150, 150, 3)]     0         \n",
      "                                                                 \n",
      " block1_conv1 (Conv2D)       (None, 150, 150, 64)      1792      \n",
      "                                                                 \n",
      " block1_conv2 (Conv2D)       (None, 150, 150, 64)      36928     \n",
      "                                                                 \n",
      " block1_pool (MaxPooling2D)  (None, 75, 75, 64)        0         \n",
      "                                                                 \n",
      " block2_conv1 (Conv2D)       (None, 75, 75, 128)       73856     \n",
      "                                                                 \n",
      " block2_conv2 (Conv2D)       (None, 75, 75, 128)       147584    \n",
      "                                                                 \n",
      " block2_pool (MaxPooling2D)  (None, 37, 37, 128)       0         \n",
      "                                                                 \n",
      " block3_conv1 (Conv2D)       (None, 37, 37, 256)       295168    \n",
      "                                                                 \n",
      " block3_conv2 (Conv2D)       (None, 37, 37, 256)       590080    \n",
      "                                                                 \n",
      " block3_conv3 (Conv2D)       (None, 37, 37, 256)       590080    \n",
      "                                                                 \n",
      " block3_conv4 (Conv2D)       (None, 37, 37, 256)       590080    \n",
      "                                                                 \n",
      " block3_pool (MaxPooling2D)  (None, 18, 18, 256)       0         \n",
      "                                                                 \n",
      " block4_conv1 (Conv2D)       (None, 18, 18, 512)       1180160   \n",
      "                                                                 \n",
      " block4_conv2 (Conv2D)       (None, 18, 18, 512)       2359808   \n",
      "                                                                 \n",
      " block4_conv3 (Conv2D)       (None, 18, 18, 512)       2359808   \n",
      "                                                                 \n",
      " block4_conv4 (Conv2D)       (None, 18, 18, 512)       2359808   \n",
      "                                                                 \n",
      " block4_pool (MaxPooling2D)  (None, 9, 9, 512)         0         \n",
      "                                                                 \n",
      " block5_conv1 (Conv2D)       (None, 9, 9, 512)         2359808   \n",
      "                                                                 \n",
      " block5_conv2 (Conv2D)       (None, 9, 9, 512)         2359808   \n",
      "                                                                 \n",
      " block5_conv3 (Conv2D)       (None, 9, 9, 512)         2359808   \n",
      "                                                                 \n",
      " block5_conv4 (Conv2D)       (None, 9, 9, 512)         2359808   \n",
      "                                                                 \n",
      " block5_pool (MaxPooling2D)  (None, 4, 4, 512)         0         \n",
      "                                                                 \n",
      " flatten_1 (Flatten)         (None, 8192)              0         \n",
      "                                                                 \n",
      " dense_2 (Dense)             (None, 512)               4194816   \n",
      "                                                                 \n",
      " dropout_1 (Dropout)         (None, 512)               0         \n",
      "                                                                 \n",
      " dense_3 (Dense)             (None, 1)                 513       \n",
      "                                                                 \n",
      "=================================================================\n",
      "Total params: 24,219,713\n",
      "Trainable params: 4,195,329\n",
      "Non-trainable params: 20,024,384\n",
      "_________________________________________________________________\n"
     ]
    }
   ],
   "source": [
    "model.summary()"
   ]
  },
  {
   "cell_type": "code",
   "execution_count": 53,
   "id": "a1330b81",
   "metadata": {},
   "outputs": [],
   "source": [
    "model.compile(optimizer = tf.keras.optimizers.RMSprop(learning_rate=0.0001), loss = 'binary_crossentropy',metrics = ['accuracy'])"
   ]
  },
  {
   "cell_type": "code",
   "execution_count": 54,
   "id": "2f3d4a77",
   "metadata": {},
   "outputs": [],
   "source": [
    "earlystop = EarlyStopping(monitor = 'val_loss',patience = 3)"
   ]
  },
  {
   "cell_type": "code",
   "execution_count": 55,
   "id": "16b1d164",
   "metadata": {},
   "outputs": [
    {
     "name": "stdout",
     "output_type": "stream",
     "text": [
      "Epoch 1/100\n",
      "103/103 [==============================] - 293s 3s/step - loss: 0.2442 - accuracy: 0.9011 - val_loss: 0.1292 - val_accuracy: 0.9527\n",
      "Epoch 2/100\n",
      "103/103 [==============================] - 298s 3s/step - loss: 0.1302 - accuracy: 0.9530 - val_loss: 0.1364 - val_accuracy: 0.9551\n",
      "Epoch 3/100\n",
      "103/103 [==============================] - 297s 3s/step - loss: 0.1030 - accuracy: 0.9612 - val_loss: 0.0781 - val_accuracy: 0.9684\n",
      "Epoch 4/100\n",
      "103/103 [==============================] - 294s 3s/step - loss: 0.0880 - accuracy: 0.9694 - val_loss: 0.0731 - val_accuracy: 0.9721\n",
      "Epoch 5/100\n",
      "103/103 [==============================] - 295s 3s/step - loss: 0.0744 - accuracy: 0.9721 - val_loss: 0.0746 - val_accuracy: 0.9709\n",
      "Epoch 6/100\n",
      "103/103 [==============================] - 294s 3s/step - loss: 0.0687 - accuracy: 0.9730 - val_loss: 0.0696 - val_accuracy: 0.9757\n",
      "Epoch 7/100\n",
      "103/103 [==============================] - 311s 3s/step - loss: 0.0627 - accuracy: 0.9779 - val_loss: 0.1229 - val_accuracy: 0.9551\n",
      "Epoch 8/100\n",
      "103/103 [==============================] - 421s 4s/step - loss: 0.0566 - accuracy: 0.9763 - val_loss: 0.0683 - val_accuracy: 0.9721\n",
      "Epoch 9/100\n",
      "103/103 [==============================] - 417s 4s/step - loss: 0.0524 - accuracy: 0.9800 - val_loss: 0.0684 - val_accuracy: 0.9721\n",
      "Epoch 10/100\n",
      "103/103 [==============================] - 367s 4s/step - loss: 0.0414 - accuracy: 0.9860 - val_loss: 0.0696 - val_accuracy: 0.9697\n",
      "Epoch 11/100\n",
      "103/103 [==============================] - 353s 3s/step - loss: 0.0408 - accuracy: 0.9845 - val_loss: 0.1280 - val_accuracy: 0.9490\n"
     ]
    }
   ],
   "source": [
    "history = model.fit(X_train,y_train, validation_data = (X_test,y_test), epochs = 100, callbacks = earlystop)"
   ]
  },
  {
   "cell_type": "code",
   "execution_count": 56,
   "id": "e968e27e",
   "metadata": {},
   "outputs": [
    {
     "name": "stdout",
     "output_type": "stream",
     "text": [
      "26/26 [==============================] - 76s 3s/step\n"
     ]
    }
   ],
   "source": [
    "pred = (model.predict(X_test)>0.5).astype('int32')"
   ]
  },
  {
   "cell_type": "code",
   "execution_count": 57,
   "id": "6c6535ec",
   "metadata": {},
   "outputs": [
    {
     "name": "stdout",
     "output_type": "stream",
     "text": [
      "0.9476309226932669\n",
      "\n",
      "0.9490291262135923\n",
      "\n",
      "[[402   1]\n",
      " [ 41 380]]\n",
      "\n",
      "              precision    recall  f1-score   support\n",
      "\n",
      "           0       0.91      1.00      0.95       403\n",
      "           1       1.00      0.90      0.95       421\n",
      "\n",
      "    accuracy                           0.95       824\n",
      "   macro avg       0.95      0.95      0.95       824\n",
      "weighted avg       0.95      0.95      0.95       824\n",
      "\n"
     ]
    }
   ],
   "source": [
    "print(f1_score(y_test,pred))\n",
    "print()\n",
    "print(accuracy_score(y_test,pred))\n",
    "print()\n",
    "print(confusion_matrix(y_test,pred))\n",
    "print()\n",
    "print(classification_report(y_test,pred))"
   ]
  },
  {
   "cell_type": "code",
   "execution_count": 58,
   "id": "49f59fd8",
   "metadata": {},
   "outputs": [],
   "source": [
    "val_loss = pd.DataFrame(history.history['val_loss'])\n",
    "loss = pd.DataFrame(history.history['loss'])\n",
    "accuracy = pd.DataFrame(history.history['accuracy'])\n",
    "val_accuracy = pd.DataFrame(history.history['val_accuracy'])\n",
    "losses = pd.concat([loss,val_loss,accuracy,val_accuracy],axis=1)\n",
    "losses.columns=['loss','val_loss','accuracy','val_accuracy']"
   ]
  },
  {
   "cell_type": "code",
   "execution_count": 59,
   "id": "67353147",
   "metadata": {},
   "outputs": [
    {
     "data": {
      "text/plain": [
       "<AxesSubplot:>"
      ]
     },
     "execution_count": 59,
     "metadata": {},
     "output_type": "execute_result"
    },
    {
     "data": {
      "image/png": "[encoded data removed]",
      "text/plain": [
       "<Figure size 432x288 with 1 Axes>"
      ]
     },
     "metadata": {
      "needs_background": "light"
     },
     "output_type": "display_data"
    }
   ],
   "source": [
    "losses.plot()"
   ]
  },
  {
   "cell_type": "code",
   "execution_count": 60,
   "id": "6ad21eca",
   "metadata": {},
   "outputs": [
    {
     "data": {
      "text/plain": [
       "[<matplotlib.lines.Line2D at 0x25676dde0d0>]"
      ]
     },
     "execution_count": 60,
     "metadata": {},
     "output_type": "execute_result"
    },
    {
     "data": {
      "image/png": "[encoded data removed]",
      "text/plain": [
       "<Figure size 864x504 with 2 Axes>"
      ]
     },
     "metadata": {
      "needs_background": "light"
     },
     "output_type": "display_data"
    }
   ],
   "source": [
    "plt.figure(figsize=(12,7))\n",
    "plt.subplot(2,1,1)\n",
    "plt.title('Cross Entropy Loss')\n",
    "plt.plot(history.history['loss'],color='blue',label='train')\n",
    "plt.plot(history.history['val_loss'],color='orange',label='test')\n",
    "                \n",
    "plt.subplot(2,1,2)\n",
    "plt.title('Classification Accuracy')\n",
    "plt.plot(history.history['accuracy'],color='blue',label='train')\n",
    "plt.plot(history.history['val_accuracy'],color='orange',label='test')"
   ]
  },
  {
   "cell_type": "code",
   "execution_count": 61,
   "id": "f665b30c",
   "metadata": {},
   "outputs": [
    {
     "data": {
      "image/png": "[encoded data removed]",
      "text/plain": [
       "<Figure size 432x288 with 1 Axes>"
      ]
     },
     "metadata": {
      "needs_background": "light"
     },
     "output_type": "display_data"
    }
   ],
   "source": [
    "from sklearn.metrics import roc_curve,auc\n",
    "fpr, tpr, _ = roc_curve(y_test, pred)\n",
    "roc_auc = auc(fpr, tpr)\n",
    "plt.figure()\n",
    "lw = 2\n",
    "plt.plot(fpr, tpr, color='darkorange',\n",
    "lw=lw, label='ROC curve (area = %0.2f)' % roc_auc)\n",
    "plt.plot([0, 1], [0, 1], color='navy', lw=lw, linestyle='--')\n",
    "plt.xlim([0.0, 1.0])\n",
    "plt.ylim([0.0, 1.05])\n",
    "plt.xlabel('False Positive Rate')\n",
    "plt.ylabel('True Positive Rate')\n",
    "plt.title('Receiver operating characteristic example')\n",
    "plt.legend(loc=\"lower right\")\n",
    "plt.show()"
   ]
  },
  {
   "cell_type": "code",
   "execution_count": 62,
   "id": "3bcdec1b",
   "metadata": {},
   "outputs": [],
   "source": [
    "model.save('Mask_Detection_VGG19.h5')"
   ]
  },
  {
   "cell_type": "code",
   "execution_count": 123,
   "id": "5f565118",
   "metadata": {},
   "outputs": [
    {
     "name": "stdout",
     "output_type": "stream",
     "text": [
      "Serving 'Mask_Detection_VGG19.h5' at http://localhost:8080\n"
     ]
    },
    {
     "data": {
      "text/plain": [
       "('localhost', 8080)"
      ]
     },
     "execution_count": 123,
     "metadata": {},
     "output_type": "execute_result"
    }
   ],
   "source": [
    "import netron\n",
    "netron.start('Mask_Detection_VGG19.h5')"
   ]
  },
  {
   "cell_type": "markdown",
   "id": "92ae67af",
   "metadata": {},
   "source": [
    "##### MobileNetV-2"
   ]
  },
  {
   "cell_type": "code",
   "execution_count": 63,
   "id": "d4cf9e1b",
   "metadata": {},
   "outputs": [],
   "source": [
    "#Extracting the filenames in the path\n",
    "masked_dir = os.listdir('images\\\\Masked')\n",
    "non_masked_dir = os.listdir('images\\\\Nonmasked')\n",
    "\n",
    "#List to store the image arrays and labels\n",
    "data = []\n",
    "labels = []\n",
    "\n",
    "#Converting all the masked images into array\n",
    "for img in masked_dir:\n",
    "    img_path = 'images\\Masked\\{}'.format(img)\n",
    "    image = load_img(img_path, target_size=(160,160))\n",
    "    image = img_to_array(image)\n",
    "\n",
    "    data.append(image)\n",
    "    labels.append(1)\n",
    "    \n",
    "#Converting all the non-masked images into array\n",
    "for img in non_masked_dir:\n",
    "    img_path = 'images\\\\Nonmasked\\\\{}'.format(img)\n",
    "    image = load_img(img_path, target_size=(160, 160))\n",
    "    image = img_to_array(image)\n",
    "\n",
    "    data.append(image)\n",
    "    labels.append(0)\n",
    "    \n",
    "#Converting the data and labels list into arrays\n",
    "data = np.array(data, dtype=\"float32\")\n",
    "labels = np.array(labels)\n",
    "\n",
    "from sklearn.model_selection import train_test_split\n",
    "X_train,X_test,y_train,y_test = train_test_split(data,labels,test_size=0.2,random_state=101)\n",
    "\n",
    "#List to store the arrays after converting them from 32x32x3 to 3072 because MinMaxScaler allows only <=2 Dimensional Array\n",
    "arr_train = []\n",
    "arr_test = []\n",
    "\n",
    "#converting arrays from 160x160x3 to 76800\n",
    "for i in range(len(X_train)):\n",
    "    arr_train.append(X_train[i].reshape(76800))\n",
    "\n",
    "for i in range(len(X_test)):\n",
    "    arr_test.append(X_test[i].reshape(76800))\n",
    "    \n",
    "#converting the lists to array\n",
    "arr_train = np.array(arr_train,dtype='float32')\n",
    "arr_test = np.array(arr_test,dtype='float32')\n",
    "\n",
    "#Regularizing the data using MinMaxScaler \n",
    "from sklearn.preprocessing import MinMaxScaler\n",
    "\n",
    "scaler = MinMaxScaler()\n",
    "\n",
    "X_train = scaler.fit_transform(arr_train)\n",
    "X_test = scaler.transform(arr_test)\n",
    "\n",
    "col = []\n",
    "for i in range(1,4):\n",
    "    for j in range(1,161):\n",
    "        for k in range(1,161):\n",
    "            col.append(str(i)+'x'+str(j)+'x'+str(k))\n",
    "            \n",
    "#Converting the 1-D arrays into DataFrame \n",
    "df_train = pd.DataFrame(X_train,columns = col)\n",
    "df_test = pd.DataFrame(X_test,columns = col)\n",
    "y_train = pd.DataFrame(y_train,columns = ['label'])\n",
    "y_test = pd.DataFrame(y_test,columns = ['label'])\n",
    "\n",
    "#Concatinating the DataFrames to form train and test data set which can be use for further training\n",
    "df_train = pd.concat([df_train,y_train],axis=1)\n",
    "df_test = pd.concat([df_test,y_test],axis=1)\n",
    "\n",
    "#converting the regularized data into 32x32x3 regularized arrays\n",
    "y_train = np.array(df_train['label'])\n",
    "y_test = np.array(df_test['label'])\n",
    "\n",
    "df_train = np.array(df_train.drop('label',axis=1))\n",
    "df_test = np.array(df_test.drop('label',axis=1))\n",
    "\n",
    "X_train = []\n",
    "X_test = []\n",
    "\n",
    "for i in range(len(df_train)):\n",
    "    X_train.append(df_train[i].reshape(160,160,3))\n",
    "\n",
    "for i in range(len(df_test)):\n",
    "    X_test.append(df_test[i].reshape(160,160,3))\n",
    "    \n",
    "X_train = np.array(X_train,dtype='float32')\n",
    "X_test = np.array(X_test,dtype='float32')"
   ]
  },
  {
   "cell_type": "code",
   "execution_count": 64,
   "id": "796b87ae",
   "metadata": {},
   "outputs": [],
   "source": [
    "np.save('X_train_160_160_3.npy',X_train)\n",
    "np.save('X_test_160_160_3.npy',X_test)\n",
    "np.save('y_train_160_160_3.npy',y_train)\n",
    "np.save('y_test_160_160_3.npy',y_test)"
   ]
  },
  {
   "cell_type": "code",
   "execution_count": 70,
   "id": "0e998c44",
   "metadata": {},
   "outputs": [],
   "source": [
    "X_train_160 = np.load('X_train_160_160_3.npy')\n",
    "X_test_160 = np.load('X_test_160_160_3.npy')\n",
    "y_train_160 = np.load('y_train_160_160_3.npy')\n",
    "y_test_160 = np.load('y_test_160_160_3.npy')"
   ]
  },
  {
   "cell_type": "code",
   "execution_count": 71,
   "id": "b815ddbd",
   "metadata": {},
   "outputs": [],
   "source": [
    "from tensorflow.keras.applications.mobilenet_v2 import MobileNetV2\n",
    "import tensorflow as tf\n",
    "import tensorflow.keras.layers as tfl\n",
    "from keras import models\n",
    "from tensorflow.keras.callbacks import EarlyStopping"
   ]
  },
  {
   "cell_type": "code",
   "execution_count": 72,
   "id": "00d2b1bb",
   "metadata": {},
   "outputs": [],
   "source": [
    "base_model = MobileNetV2(input_shape = (160, 160, 3), include_top = False, weights = 'imagenet')"
   ]
  },
  {
   "cell_type": "code",
   "execution_count": 73,
   "id": "f67c2c1c",
   "metadata": {},
   "outputs": [],
   "source": [
    "for layer in base_model.layers:\n",
    "    layer.trainable = False"
   ]
  },
  {
   "cell_type": "code",
   "execution_count": 74,
   "id": "b503186b",
   "metadata": {},
   "outputs": [],
   "source": [
    "x = tfl.Flatten()(base_model.output)\n",
    "x =tfl.Dense(512, activation='relu')(x)\n",
    "x = tfl.Dropout(0.5)(x)\n",
    "x = tfl.Dense(1, activation='sigmoid')(x)"
   ]
  },
  {
   "cell_type": "code",
   "execution_count": 75,
   "id": "5f82c7e9",
   "metadata": {},
   "outputs": [],
   "source": [
    "model = tf.keras.models.Model(base_model.input, x)"
   ]
  },
  {
   "cell_type": "code",
   "execution_count": 76,
   "id": "476e95cd",
   "metadata": {},
   "outputs": [
    {
     "name": "stdout",
     "output_type": "stream",
     "text": [
      "Model: \"model_2\"\n",
      "__________________________________________________________________________________________________\n",
      " Layer (type)                   Output Shape         Param #     Connected to                     \n",
      "==================================================================================================\n",
      " input_3 (InputLayer)           [(None, 160, 160, 3  0           []                               \n",
      "                                )]                                                                \n",
      "                                                                                                  \n",
      " Conv1 (Conv2D)                 (None, 80, 80, 32)   864         ['input_3[0][0]']                \n",
      "                                                                                                  \n",
      " bn_Conv1 (BatchNormalization)  (None, 80, 80, 32)   128         ['Conv1[0][0]']                  \n",
      "                                                                                                  \n",
      " Conv1_relu (ReLU)              (None, 80, 80, 32)   0           ['bn_Conv1[0][0]']               \n",
      "                                                                                                  \n",
      " expanded_conv_depthwise (Depth  (None, 80, 80, 32)  288         ['Conv1_relu[0][0]']             \n",
      " wiseConv2D)                                                                                      \n",
      "                                                                                                  \n",
      " expanded_conv_depthwise_BN (Ba  (None, 80, 80, 32)  128         ['expanded_conv_depthwise[0][0]']\n",
      " tchNormalization)                                                                                \n",
      "                                                                                                  \n",
      " expanded_conv_depthwise_relu (  (None, 80, 80, 32)  0           ['expanded_conv_depthwise_BN[0][0\n",
      " ReLU)                                                           ]']                              \n",
      "                                                                                                  \n",
      " expanded_conv_project (Conv2D)  (None, 80, 80, 16)  512         ['expanded_conv_depthwise_relu[0]\n",
      "                                                                 [0]']                            \n",
      "                                                                                                  \n",
      " expanded_conv_project_BN (Batc  (None, 80, 80, 16)  64          ['expanded_conv_project[0][0]']  \n",
      " hNormalization)                                                                                  \n",
      "                                                                                                  \n",
      " block_1_expand (Conv2D)        (None, 80, 80, 96)   1536        ['expanded_conv_project_BN[0][0]'\n",
      "                                                                 ]                                \n",
      "                                                                                                  \n",
      " block_1_expand_BN (BatchNormal  (None, 80, 80, 96)  384         ['block_1_expand[0][0]']         \n",
      " ization)                                                                                         \n",
      "                                                                                                  \n",
      " block_1_expand_relu (ReLU)     (None, 80, 80, 96)   0           ['block_1_expand_BN[0][0]']      \n",
      "                                                                                                  \n",
      " block_1_pad (ZeroPadding2D)    (None, 81, 81, 96)   0           ['block_1_expand_relu[0][0]']    \n",
      "                                                                                                  \n",
      " block_1_depthwise (DepthwiseCo  (None, 40, 40, 96)  864         ['block_1_pad[0][0]']            \n",
      " nv2D)                                                                                            \n",
      "                                                                                                  \n",
      " block_1_depthwise_BN (BatchNor  (None, 40, 40, 96)  384         ['block_1_depthwise[0][0]']      \n",
      " malization)                                                                                      \n",
      "                                                                                                  \n",
      " block_1_depthwise_relu (ReLU)  (None, 40, 40, 96)   0           ['block_1_depthwise_BN[0][0]']   \n",
      "                                                                                                  \n",
      " block_1_project (Conv2D)       (None, 40, 40, 24)   2304        ['block_1_depthwise_relu[0][0]'] \n",
      "                                                                                                  \n",
      " block_1_project_BN (BatchNorma  (None, 40, 40, 24)  96          ['block_1_project[0][0]']        \n",
      " lization)                                                                                        \n",
      "                                                                                                  \n",
      " block_2_expand (Conv2D)        (None, 40, 40, 144)  3456        ['block_1_project_BN[0][0]']     \n",
      "                                                                                                  \n",
      " block_2_expand_BN (BatchNormal  (None, 40, 40, 144)  576        ['block_2_expand[0][0]']         \n",
      " ization)                                                                                         \n",
      "                                                                                                  \n",
      " block_2_expand_relu (ReLU)     (None, 40, 40, 144)  0           ['block_2_expand_BN[0][0]']      \n",
      "                                                                                                  \n",
      " block_2_depthwise (DepthwiseCo  (None, 40, 40, 144)  1296       ['block_2_expand_relu[0][0]']    \n",
      " nv2D)                                                                                            \n",
      "                                                                                                  \n",
      " block_2_depthwise_BN (BatchNor  (None, 40, 40, 144)  576        ['block_2_depthwise[0][0]']      \n",
      " malization)                                                                                      \n",
      "                                                                                                  \n",
      " block_2_depthwise_relu (ReLU)  (None, 40, 40, 144)  0           ['block_2_depthwise_BN[0][0]']   \n",
      "                                                                                                  \n",
      " block_2_project (Conv2D)       (None, 40, 40, 24)   3456        ['block_2_depthwise_relu[0][0]'] \n",
      "                                                                                                  \n",
      " block_2_project_BN (BatchNorma  (None, 40, 40, 24)  96          ['block_2_project[0][0]']        \n",
      " lization)                                                                                        \n",
      "                                                                                                  \n",
      " block_2_add (Add)              (None, 40, 40, 24)   0           ['block_1_project_BN[0][0]',     \n",
      "                                                                  'block_2_project_BN[0][0]']     \n",
      "                                                                                                  \n",
      " block_3_expand (Conv2D)        (None, 40, 40, 144)  3456        ['block_2_add[0][0]']            \n",
      "                                                                                                  \n",
      " block_3_expand_BN (BatchNormal  (None, 40, 40, 144)  576        ['block_3_expand[0][0]']         \n",
      " ization)                                                                                         \n",
      "                                                                                                  \n",
      " block_3_expand_relu (ReLU)     (None, 40, 40, 144)  0           ['block_3_expand_BN[0][0]']      \n",
      "                                                                                                  \n",
      " block_3_pad (ZeroPadding2D)    (None, 41, 41, 144)  0           ['block_3_expand_relu[0][0]']    \n",
      "                                                                                                  \n",
      " block_3_depthwise (DepthwiseCo  (None, 20, 20, 144)  1296       ['block_3_pad[0][0]']            \n"
     ]
    },
    {
     "name": "stdout",
     "output_type": "stream",
     "text": [
      " nv2D)                                                                                            \n",
      "                                                                                                  \n",
      " block_3_depthwise_BN (BatchNor  (None, 20, 20, 144)  576        ['block_3_depthwise[0][0]']      \n",
      " malization)                                                                                      \n",
      "                                                                                                  \n",
      " block_3_depthwise_relu (ReLU)  (None, 20, 20, 144)  0           ['block_3_depthwise_BN[0][0]']   \n",
      "                                                                                                  \n",
      " block_3_project (Conv2D)       (None, 20, 20, 32)   4608        ['block_3_depthwise_relu[0][0]'] \n",
      "                                                                                                  \n",
      " block_3_project_BN (BatchNorma  (None, 20, 20, 32)  128         ['block_3_project[0][0]']        \n",
      " lization)                                                                                        \n",
      "                                                                                                  \n",
      " block_4_expand (Conv2D)        (None, 20, 20, 192)  6144        ['block_3_project_BN[0][0]']     \n",
      "                                                                                                  \n",
      " block_4_expand_BN (BatchNormal  (None, 20, 20, 192)  768        ['block_4_expand[0][0]']         \n",
      " ization)                                                                                         \n",
      "                                                                                                  \n",
      " block_4_expand_relu (ReLU)     (None, 20, 20, 192)  0           ['block_4_expand_BN[0][0]']      \n",
      "                                                                                                  \n",
      " block_4_depthwise (DepthwiseCo  (None, 20, 20, 192)  1728       ['block_4_expand_relu[0][0]']    \n",
      " nv2D)                                                                                            \n",
      "                                                                                                  \n",
      " block_4_depthwise_BN (BatchNor  (None, 20, 20, 192)  768        ['block_4_depthwise[0][0]']      \n",
      " malization)                                                                                      \n",
      "                                                                                                  \n",
      " block_4_depthwise_relu (ReLU)  (None, 20, 20, 192)  0           ['block_4_depthwise_BN[0][0]']   \n",
      "                                                                                                  \n",
      " block_4_project (Conv2D)       (None, 20, 20, 32)   6144        ['block_4_depthwise_relu[0][0]'] \n",
      "                                                                                                  \n",
      " block_4_project_BN (BatchNorma  (None, 20, 20, 32)  128         ['block_4_project[0][0]']        \n",
      " lization)                                                                                        \n",
      "                                                                                                  \n",
      " block_4_add (Add)              (None, 20, 20, 32)   0           ['block_3_project_BN[0][0]',     \n",
      "                                                                  'block_4_project_BN[0][0]']     \n",
      "                                                                                                  \n",
      " block_5_expand (Conv2D)        (None, 20, 20, 192)  6144        ['block_4_add[0][0]']            \n",
      "                                                                                                  \n",
      " block_5_expand_BN (BatchNormal  (None, 20, 20, 192)  768        ['block_5_expand[0][0]']         \n",
      " ization)                                                                                         \n",
      "                                                                                                  \n",
      " block_5_expand_relu (ReLU)     (None, 20, 20, 192)  0           ['block_5_expand_BN[0][0]']      \n",
      "                                                                                                  \n",
      " block_5_depthwise (DepthwiseCo  (None, 20, 20, 192)  1728       ['block_5_expand_relu[0][0]']    \n",
      " nv2D)                                                                                            \n",
      "                                                                                                  \n",
      " block_5_depthwise_BN (BatchNor  (None, 20, 20, 192)  768        ['block_5_depthwise[0][0]']      \n",
      " malization)                                                                                      \n",
      "                                                                                                  \n",
      " block_5_depthwise_relu (ReLU)  (None, 20, 20, 192)  0           ['block_5_depthwise_BN[0][0]']   \n",
      "                                                                                                  \n",
      " block_5_project (Conv2D)       (None, 20, 20, 32)   6144        ['block_5_depthwise_relu[0][0]'] \n",
      "                                                                                                  \n",
      " block_5_project_BN (BatchNorma  (None, 20, 20, 32)  128         ['block_5_project[0][0]']        \n",
      " lization)                                                                                        \n",
      "                                                                                                  \n",
      " block_5_add (Add)              (None, 20, 20, 32)   0           ['block_4_add[0][0]',            \n",
      "                                                                  'block_5_project_BN[0][0]']     \n",
      "                                                                                                  \n",
      " block_6_expand (Conv2D)        (None, 20, 20, 192)  6144        ['block_5_add[0][0]']            \n",
      "                                                                                                  \n",
      " block_6_expand_BN (BatchNormal  (None, 20, 20, 192)  768        ['block_6_expand[0][0]']         \n",
      " ization)                                                                                         \n",
      "                                                                                                  \n",
      " block_6_expand_relu (ReLU)     (None, 20, 20, 192)  0           ['block_6_expand_BN[0][0]']      \n",
      "                                                                                                  \n",
      " block_6_pad (ZeroPadding2D)    (None, 21, 21, 192)  0           ['block_6_expand_relu[0][0]']    \n",
      "                                                                                                  \n",
      " block_6_depthwise (DepthwiseCo  (None, 10, 10, 192)  1728       ['block_6_pad[0][0]']            \n",
      " nv2D)                                                                                            \n",
      "                                                                                                  \n",
      " block_6_depthwise_BN (BatchNor  (None, 10, 10, 192)  768        ['block_6_depthwise[0][0]']      \n",
      " malization)                                                                                      \n",
      "                                                                                                  \n",
      " block_6_depthwise_relu (ReLU)  (None, 10, 10, 192)  0           ['block_6_depthwise_BN[0][0]']   \n",
      "                                                                                                  \n",
      " block_6_project (Conv2D)       (None, 10, 10, 64)   12288       ['block_6_depthwise_relu[0][0]'] \n",
      "                                                                                                  \n",
      " block_6_project_BN (BatchNorma  (None, 10, 10, 64)  256         ['block_6_project[0][0]']        \n",
      " lization)                                                                                        \n",
      "                                                                                                  \n",
      " block_7_expand (Conv2D)        (None, 10, 10, 384)  24576       ['block_6_project_BN[0][0]']     \n",
      "                                                                                                  \n",
      " block_7_expand_BN (BatchNormal  (None, 10, 10, 384)  1536       ['block_7_expand[0][0]']         \n"
     ]
    },
    {
     "name": "stdout",
     "output_type": "stream",
     "text": [
      " ization)                                                                                         \n",
      "                                                                                                  \n",
      " block_7_expand_relu (ReLU)     (None, 10, 10, 384)  0           ['block_7_expand_BN[0][0]']      \n",
      "                                                                                                  \n",
      " block_7_depthwise (DepthwiseCo  (None, 10, 10, 384)  3456       ['block_7_expand_relu[0][0]']    \n",
      " nv2D)                                                                                            \n",
      "                                                                                                  \n",
      " block_7_depthwise_BN (BatchNor  (None, 10, 10, 384)  1536       ['block_7_depthwise[0][0]']      \n",
      " malization)                                                                                      \n",
      "                                                                                                  \n",
      " block_7_depthwise_relu (ReLU)  (None, 10, 10, 384)  0           ['block_7_depthwise_BN[0][0]']   \n",
      "                                                                                                  \n",
      " block_7_project (Conv2D)       (None, 10, 10, 64)   24576       ['block_7_depthwise_relu[0][0]'] \n",
      "                                                                                                  \n",
      " block_7_project_BN (BatchNorma  (None, 10, 10, 64)  256         ['block_7_project[0][0]']        \n",
      " lization)                                                                                        \n",
      "                                                                                                  \n",
      " block_7_add (Add)              (None, 10, 10, 64)   0           ['block_6_project_BN[0][0]',     \n",
      "                                                                  'block_7_project_BN[0][0]']     \n",
      "                                                                                                  \n",
      " block_8_expand (Conv2D)        (None, 10, 10, 384)  24576       ['block_7_add[0][0]']            \n",
      "                                                                                                  \n",
      " block_8_expand_BN (BatchNormal  (None, 10, 10, 384)  1536       ['block_8_expand[0][0]']         \n",
      " ization)                                                                                         \n",
      "                                                                                                  \n",
      " block_8_expand_relu (ReLU)     (None, 10, 10, 384)  0           ['block_8_expand_BN[0][0]']      \n",
      "                                                                                                  \n",
      " block_8_depthwise (DepthwiseCo  (None, 10, 10, 384)  3456       ['block_8_expand_relu[0][0]']    \n",
      " nv2D)                                                                                            \n",
      "                                                                                                  \n",
      " block_8_depthwise_BN (BatchNor  (None, 10, 10, 384)  1536       ['block_8_depthwise[0][0]']      \n",
      " malization)                                                                                      \n",
      "                                                                                                  \n",
      " block_8_depthwise_relu (ReLU)  (None, 10, 10, 384)  0           ['block_8_depthwise_BN[0][0]']   \n",
      "                                                                                                  \n",
      " block_8_project (Conv2D)       (None, 10, 10, 64)   24576       ['block_8_depthwise_relu[0][0]'] \n",
      "                                                                                                  \n",
      " block_8_project_BN (BatchNorma  (None, 10, 10, 64)  256         ['block_8_project[0][0]']        \n",
      " lization)                                                                                        \n",
      "                                                                                                  \n",
      " block_8_add (Add)              (None, 10, 10, 64)   0           ['block_7_add[0][0]',            \n",
      "                                                                  'block_8_project_BN[0][0]']     \n",
      "                                                                                                  \n",
      " block_9_expand (Conv2D)        (None, 10, 10, 384)  24576       ['block_8_add[0][0]']            \n",
      "                                                                                                  \n",
      " block_9_expand_BN (BatchNormal  (None, 10, 10, 384)  1536       ['block_9_expand[0][0]']         \n",
      " ization)                                                                                         \n",
      "                                                                                                  \n",
      " block_9_expand_relu (ReLU)     (None, 10, 10, 384)  0           ['block_9_expand_BN[0][0]']      \n",
      "                                                                                                  \n",
      " block_9_depthwise (DepthwiseCo  (None, 10, 10, 384)  3456       ['block_9_expand_relu[0][0]']    \n",
      " nv2D)                                                                                            \n",
      "                                                                                                  \n",
      " block_9_depthwise_BN (BatchNor  (None, 10, 10, 384)  1536       ['block_9_depthwise[0][0]']      \n",
      " malization)                                                                                      \n",
      "                                                                                                  \n",
      " block_9_depthwise_relu (ReLU)  (None, 10, 10, 384)  0           ['block_9_depthwise_BN[0][0]']   \n",
      "                                                                                                  \n",
      " block_9_project (Conv2D)       (None, 10, 10, 64)   24576       ['block_9_depthwise_relu[0][0]'] \n",
      "                                                                                                  \n",
      " block_9_project_BN (BatchNorma  (None, 10, 10, 64)  256         ['block_9_project[0][0]']        \n",
      " lization)                                                                                        \n",
      "                                                                                                  \n",
      " block_9_add (Add)              (None, 10, 10, 64)   0           ['block_8_add[0][0]',            \n",
      "                                                                  'block_9_project_BN[0][0]']     \n",
      "                                                                                                  \n",
      " block_10_expand (Conv2D)       (None, 10, 10, 384)  24576       ['block_9_add[0][0]']            \n",
      "                                                                                                  \n",
      " block_10_expand_BN (BatchNorma  (None, 10, 10, 384)  1536       ['block_10_expand[0][0]']        \n",
      " lization)                                                                                        \n",
      "                                                                                                  \n",
      " block_10_expand_relu (ReLU)    (None, 10, 10, 384)  0           ['block_10_expand_BN[0][0]']     \n",
      "                                                                                                  \n",
      " block_10_depthwise (DepthwiseC  (None, 10, 10, 384)  3456       ['block_10_expand_relu[0][0]']   \n",
      " onv2D)                                                                                           \n",
      "                                                                                                  \n",
      " block_10_depthwise_BN (BatchNo  (None, 10, 10, 384)  1536       ['block_10_depthwise[0][0]']     \n",
      " rmalization)                                                                                     \n",
      "                                                                                                  \n",
      " block_10_depthwise_relu (ReLU)  (None, 10, 10, 384)  0          ['block_10_depthwise_BN[0][0]']  \n",
      "                                                                                                  \n",
      " block_10_project (Conv2D)      (None, 10, 10, 96)   36864       ['block_10_depthwise_relu[0][0]']\n",
      "                                                                                                  \n"
     ]
    },
    {
     "name": "stdout",
     "output_type": "stream",
     "text": [
      " block_10_project_BN (BatchNorm  (None, 10, 10, 96)  384         ['block_10_project[0][0]']       \n",
      " alization)                                                                                       \n",
      "                                                                                                  \n",
      " block_11_expand (Conv2D)       (None, 10, 10, 576)  55296       ['block_10_project_BN[0][0]']    \n",
      "                                                                                                  \n",
      " block_11_expand_BN (BatchNorma  (None, 10, 10, 576)  2304       ['block_11_expand[0][0]']        \n",
      " lization)                                                                                        \n",
      "                                                                                                  \n",
      " block_11_expand_relu (ReLU)    (None, 10, 10, 576)  0           ['block_11_expand_BN[0][0]']     \n",
      "                                                                                                  \n",
      " block_11_depthwise (DepthwiseC  (None, 10, 10, 576)  5184       ['block_11_expand_relu[0][0]']   \n",
      " onv2D)                                                                                           \n",
      "                                                                                                  \n",
      " block_11_depthwise_BN (BatchNo  (None, 10, 10, 576)  2304       ['block_11_depthwise[0][0]']     \n",
      " rmalization)                                                                                     \n",
      "                                                                                                  \n",
      " block_11_depthwise_relu (ReLU)  (None, 10, 10, 576)  0          ['block_11_depthwise_BN[0][0]']  \n",
      "                                                                                                  \n",
      " block_11_project (Conv2D)      (None, 10, 10, 96)   55296       ['block_11_depthwise_relu[0][0]']\n",
      "                                                                                                  \n",
      " block_11_project_BN (BatchNorm  (None, 10, 10, 96)  384         ['block_11_project[0][0]']       \n",
      " alization)                                                                                       \n",
      "                                                                                                  \n",
      " block_11_add (Add)             (None, 10, 10, 96)   0           ['block_10_project_BN[0][0]',    \n",
      "                                                                  'block_11_project_BN[0][0]']    \n",
      "                                                                                                  \n",
      " block_12_expand (Conv2D)       (None, 10, 10, 576)  55296       ['block_11_add[0][0]']           \n",
      "                                                                                                  \n",
      " block_12_expand_BN (BatchNorma  (None, 10, 10, 576)  2304       ['block_12_expand[0][0]']        \n",
      " lization)                                                                                        \n",
      "                                                                                                  \n",
      " block_12_expand_relu (ReLU)    (None, 10, 10, 576)  0           ['block_12_expand_BN[0][0]']     \n",
      "                                                                                                  \n",
      " block_12_depthwise (DepthwiseC  (None, 10, 10, 576)  5184       ['block_12_expand_relu[0][0]']   \n",
      " onv2D)                                                                                           \n",
      "                                                                                                  \n",
      " block_12_depthwise_BN (BatchNo  (None, 10, 10, 576)  2304       ['block_12_depthwise[0][0]']     \n",
      " rmalization)                                                                                     \n",
      "                                                                                                  \n",
      " block_12_depthwise_relu (ReLU)  (None, 10, 10, 576)  0          ['block_12_depthwise_BN[0][0]']  \n",
      "                                                                                                  \n",
      " block_12_project (Conv2D)      (None, 10, 10, 96)   55296       ['block_12_depthwise_relu[0][0]']\n",
      "                                                                                                  \n",
      " block_12_project_BN (BatchNorm  (None, 10, 10, 96)  384         ['block_12_project[0][0]']       \n",
      " alization)                                                                                       \n",
      "                                                                                                  \n",
      " block_12_add (Add)             (None, 10, 10, 96)   0           ['block_11_add[0][0]',           \n",
      "                                                                  'block_12_project_BN[0][0]']    \n",
      "                                                                                                  \n",
      " block_13_expand (Conv2D)       (None, 10, 10, 576)  55296       ['block_12_add[0][0]']           \n",
      "                                                                                                  \n",
      " block_13_expand_BN (BatchNorma  (None, 10, 10, 576)  2304       ['block_13_expand[0][0]']        \n",
      " lization)                                                                                        \n",
      "                                                                                                  \n",
      " block_13_expand_relu (ReLU)    (None, 10, 10, 576)  0           ['block_13_expand_BN[0][0]']     \n",
      "                                                                                                  \n",
      " block_13_pad (ZeroPadding2D)   (None, 11, 11, 576)  0           ['block_13_expand_relu[0][0]']   \n",
      "                                                                                                  \n",
      " block_13_depthwise (DepthwiseC  (None, 5, 5, 576)   5184        ['block_13_pad[0][0]']           \n",
      " onv2D)                                                                                           \n",
      "                                                                                                  \n",
      " block_13_depthwise_BN (BatchNo  (None, 5, 5, 576)   2304        ['block_13_depthwise[0][0]']     \n",
      " rmalization)                                                                                     \n",
      "                                                                                                  \n",
      " block_13_depthwise_relu (ReLU)  (None, 5, 5, 576)   0           ['block_13_depthwise_BN[0][0]']  \n",
      "                                                                                                  \n",
      " block_13_project (Conv2D)      (None, 5, 5, 160)    92160       ['block_13_depthwise_relu[0][0]']\n",
      "                                                                                                  \n",
      " block_13_project_BN (BatchNorm  (None, 5, 5, 160)   640         ['block_13_project[0][0]']       \n",
      " alization)                                                                                       \n",
      "                                                                                                  \n",
      " block_14_expand (Conv2D)       (None, 5, 5, 960)    153600      ['block_13_project_BN[0][0]']    \n",
      "                                                                                                  \n",
      " block_14_expand_BN (BatchNorma  (None, 5, 5, 960)   3840        ['block_14_expand[0][0]']        \n",
      " lization)                                                                                        \n",
      "                                                                                                  \n",
      " block_14_expand_relu (ReLU)    (None, 5, 5, 960)    0           ['block_14_expand_BN[0][0]']     \n",
      "                                                                                                  \n",
      " block_14_depthwise (DepthwiseC  (None, 5, 5, 960)   8640        ['block_14_expand_relu[0][0]']   \n",
      " onv2D)                                                                                           \n",
      "                                                                                                  \n",
      " block_14_depthwise_BN (BatchNo  (None, 5, 5, 960)   3840        ['block_14_depthwise[0][0]']     \n",
      " rmalization)                                                                                     \n"
     ]
    },
    {
     "name": "stdout",
     "output_type": "stream",
     "text": [
      "                                                                                                  \n",
      " block_14_depthwise_relu (ReLU)  (None, 5, 5, 960)   0           ['block_14_depthwise_BN[0][0]']  \n",
      "                                                                                                  \n",
      " block_14_project (Conv2D)      (None, 5, 5, 160)    153600      ['block_14_depthwise_relu[0][0]']\n",
      "                                                                                                  \n",
      " block_14_project_BN (BatchNorm  (None, 5, 5, 160)   640         ['block_14_project[0][0]']       \n",
      " alization)                                                                                       \n",
      "                                                                                                  \n",
      " block_14_add (Add)             (None, 5, 5, 160)    0           ['block_13_project_BN[0][0]',    \n",
      "                                                                  'block_14_project_BN[0][0]']    \n",
      "                                                                                                  \n",
      " block_15_expand (Conv2D)       (None, 5, 5, 960)    153600      ['block_14_add[0][0]']           \n",
      "                                                                                                  \n",
      " block_15_expand_BN (BatchNorma  (None, 5, 5, 960)   3840        ['block_15_expand[0][0]']        \n",
      " lization)                                                                                        \n",
      "                                                                                                  \n",
      " block_15_expand_relu (ReLU)    (None, 5, 5, 960)    0           ['block_15_expand_BN[0][0]']     \n",
      "                                                                                                  \n",
      " block_15_depthwise (DepthwiseC  (None, 5, 5, 960)   8640        ['block_15_expand_relu[0][0]']   \n",
      " onv2D)                                                                                           \n",
      "                                                                                                  \n",
      " block_15_depthwise_BN (BatchNo  (None, 5, 5, 960)   3840        ['block_15_depthwise[0][0]']     \n",
      " rmalization)                                                                                     \n",
      "                                                                                                  \n",
      " block_15_depthwise_relu (ReLU)  (None, 5, 5, 960)   0           ['block_15_depthwise_BN[0][0]']  \n",
      "                                                                                                  \n",
      " block_15_project (Conv2D)      (None, 5, 5, 160)    153600      ['block_15_depthwise_relu[0][0]']\n",
      "                                                                                                  \n",
      " block_15_project_BN (BatchNorm  (None, 5, 5, 160)   640         ['block_15_project[0][0]']       \n",
      " alization)                                                                                       \n",
      "                                                                                                  \n",
      " block_15_add (Add)             (None, 5, 5, 160)    0           ['block_14_add[0][0]',           \n",
      "                                                                  'block_15_project_BN[0][0]']    \n",
      "                                                                                                  \n",
      " block_16_expand (Conv2D)       (None, 5, 5, 960)    153600      ['block_15_add[0][0]']           \n",
      "                                                                                                  \n",
      " block_16_expand_BN (BatchNorma  (None, 5, 5, 960)   3840        ['block_16_expand[0][0]']        \n",
      " lization)                                                                                        \n",
      "                                                                                                  \n",
      " block_16_expand_relu (ReLU)    (None, 5, 5, 960)    0           ['block_16_expand_BN[0][0]']     \n",
      "                                                                                                  \n",
      " block_16_depthwise (DepthwiseC  (None, 5, 5, 960)   8640        ['block_16_expand_relu[0][0]']   \n",
      " onv2D)                                                                                           \n",
      "                                                                                                  \n",
      " block_16_depthwise_BN (BatchNo  (None, 5, 5, 960)   3840        ['block_16_depthwise[0][0]']     \n",
      " rmalization)                                                                                     \n",
      "                                                                                                  \n",
      " block_16_depthwise_relu (ReLU)  (None, 5, 5, 960)   0           ['block_16_depthwise_BN[0][0]']  \n",
      "                                                                                                  \n",
      " block_16_project (Conv2D)      (None, 5, 5, 320)    307200      ['block_16_depthwise_relu[0][0]']\n",
      "                                                                                                  \n",
      " block_16_project_BN (BatchNorm  (None, 5, 5, 320)   1280        ['block_16_project[0][0]']       \n",
      " alization)                                                                                       \n",
      "                                                                                                  \n",
      " Conv_1 (Conv2D)                (None, 5, 5, 1280)   409600      ['block_16_project_BN[0][0]']    \n",
      "                                                                                                  \n",
      " Conv_1_bn (BatchNormalization)  (None, 5, 5, 1280)  5120        ['Conv_1[0][0]']                 \n",
      "                                                                                                  \n",
      " out_relu (ReLU)                (None, 5, 5, 1280)   0           ['Conv_1_bn[0][0]']              \n",
      "                                                                                                  \n",
      " flatten_2 (Flatten)            (None, 32000)        0           ['out_relu[0][0]']               \n",
      "                                                                                                  \n",
      " dense_4 (Dense)                (None, 512)          16384512    ['flatten_2[0][0]']              \n",
      "                                                                                                  \n",
      " dropout_2 (Dropout)            (None, 512)          0           ['dense_4[0][0]']                \n",
      "                                                                                                  \n",
      " dense_5 (Dense)                (None, 1)            513         ['dropout_2[0][0]']              \n",
      "                                                                                                  \n",
      "==================================================================================================\n",
      "Total params: 18,643,009\n",
      "Trainable params: 16,385,025\n",
      "Non-trainable params: 2,257,984\n",
      "__________________________________________________________________________________________________\n"
     ]
    }
   ],
   "source": [
    "model.summary()"
   ]
  },
  {
   "cell_type": "code",
   "execution_count": 77,
   "id": "22063fe8",
   "metadata": {},
   "outputs": [],
   "source": [
    "earlystop = EarlyStopping(monitor='val_loss',patience=3)"
   ]
  },
  {
   "cell_type": "code",
   "execution_count": 78,
   "id": "86c85df4",
   "metadata": {},
   "outputs": [],
   "source": [
    "model.compile(optimizer = tf.keras.optimizers.RMSprop(learning_rate=0.0001), loss = 'binary_crossentropy',metrics = ['accuracy'])"
   ]
  },
  {
   "cell_type": "code",
   "execution_count": 79,
   "id": "013af1ee",
   "metadata": {},
   "outputs": [
    {
     "name": "stdout",
     "output_type": "stream",
     "text": [
      "Epoch 1/100\n",
      "103/103 [==============================] - 71s 650ms/step - loss: 0.2750 - accuracy: 0.9402 - val_loss: 0.5105 - val_accuracy: 0.8641\n",
      "Epoch 2/100\n",
      "103/103 [==============================] - 65s 632ms/step - loss: 0.0944 - accuracy: 0.9782 - val_loss: 0.1948 - val_accuracy: 0.9684\n",
      "Epoch 3/100\n",
      "103/103 [==============================] - 64s 625ms/step - loss: 0.0416 - accuracy: 0.9876 - val_loss: 0.0921 - val_accuracy: 0.9842\n",
      "Epoch 4/100\n",
      "103/103 [==============================] - 64s 626ms/step - loss: 0.0308 - accuracy: 0.9900 - val_loss: 0.1670 - val_accuracy: 0.9612\n",
      "Epoch 5/100\n",
      "103/103 [==============================] - 63s 616ms/step - loss: 0.0182 - accuracy: 0.9939 - val_loss: 0.0953 - val_accuracy: 0.9818\n",
      "Epoch 6/100\n",
      "103/103 [==============================] - 64s 619ms/step - loss: 0.0266 - accuracy: 0.9942 - val_loss: 0.1203 - val_accuracy: 0.9745\n"
     ]
    }
   ],
   "source": [
    "history = model.fit(X_train,y_train, validation_data = (X_test,y_test), epochs = 100,callbacks=earlystop)"
   ]
  },
  {
   "cell_type": "code",
   "execution_count": 80,
   "id": "a4ab1fd4",
   "metadata": {},
   "outputs": [
    {
     "name": "stdout",
     "output_type": "stream",
     "text": [
      "26/26 [==============================] - 11s 385ms/step\n"
     ]
    }
   ],
   "source": [
    "pred = (model.predict(X_test)>0.5).astype('int32')"
   ]
  },
  {
   "cell_type": "code",
   "execution_count": 81,
   "id": "a7d1df40",
   "metadata": {},
   "outputs": [
    {
     "name": "stdout",
     "output_type": "stream",
     "text": [
      "0.9747292418772563\n",
      "\n",
      "0.9745145631067961\n",
      "\n",
      "[[398   5]\n",
      " [ 16 405]]\n",
      "\n",
      "              precision    recall  f1-score   support\n",
      "\n",
      "           0       0.96      0.99      0.97       403\n",
      "           1       0.99      0.96      0.97       421\n",
      "\n",
      "    accuracy                           0.97       824\n",
      "   macro avg       0.97      0.97      0.97       824\n",
      "weighted avg       0.97      0.97      0.97       824\n",
      "\n"
     ]
    }
   ],
   "source": [
    "print(f1_score(y_test,pred))\n",
    "print()\n",
    "print(accuracy_score(y_test,pred))\n",
    "print()\n",
    "print(confusion_matrix(y_test,pred))\n",
    "print()\n",
    "print(classification_report(y_test,pred))"
   ]
  },
  {
   "cell_type": "code",
   "execution_count": 82,
   "id": "a00cc94e",
   "metadata": {},
   "outputs": [],
   "source": [
    "val_loss = pd.DataFrame(history.history['val_loss'])\n",
    "loss = pd.DataFrame(history.history['loss'])\n",
    "accuracy = pd.DataFrame(history.history['accuracy'])\n",
    "val_accuracy = pd.DataFrame(history.history['val_accuracy'])\n",
    "losses = pd.concat([loss,val_loss,accuracy,val_accuracy],axis=1)\n",
    "losses.columns=['loss','val_loss','accuracy','val_accuracy']"
   ]
  },
  {
   "cell_type": "code",
   "execution_count": 83,
   "id": "2bec895d",
   "metadata": {},
   "outputs": [
    {
     "data": {
      "text/plain": [
       "<AxesSubplot:>"
      ]
     },
     "execution_count": 83,
     "metadata": {},
     "output_type": "execute_result"
    },
    {
     "data": {
      "image/png": "[encoded data removed]",
      "text/plain": [
       "<Figure size 432x288 with 1 Axes>"
      ]
     },
     "metadata": {
      "needs_background": "light"
     },
     "output_type": "display_data"
    }
   ],
   "source": [
    "losses.plot()"
   ]
  },
  {
   "cell_type": "code",
   "execution_count": 84,
   "id": "6740e6b3",
   "metadata": {},
   "outputs": [
    {
     "data": {
      "text/plain": [
       "[<matplotlib.lines.Line2D at 0x254024f2f40>]"
      ]
     },
     "execution_count": 84,
     "metadata": {},
     "output_type": "execute_result"
    },
    {
     "data": {
      "image/png": "[encoded data removed]",
      "text/plain": [
       "<Figure size 864x504 with 2 Axes>"
      ]
     },
     "metadata": {
      "needs_background": "light"
     },
     "output_type": "display_data"
    }
   ],
   "source": [
    "plt.figure(figsize=(12,7))\n",
    "plt.subplot(2,1,1)\n",
    "plt.title('Cross Entropy Loss')\n",
    "plt.plot(history.history['loss'],color='blue',label='train')\n",
    "plt.plot(history.history['val_loss'],color='orange',label='test')\n",
    "                \n",
    "plt.subplot(2,1,2)\n",
    "plt.title('Classification Accuracy')\n",
    "plt.plot(history.history['accuracy'],color='blue',label='train')\n",
    "plt.plot(history.history['val_accuracy'],color='orange',label='test')"
   ]
  },
  {
   "cell_type": "code",
   "execution_count": 85,
   "id": "009b62e5",
   "metadata": {},
   "outputs": [
    {
     "data": {
      "image/png": "[encoded data removed]",
      "text/plain": [
       "<Figure size 432x288 with 1 Axes>"
      ]
     },
     "metadata": {
      "needs_background": "light"
     },
     "output_type": "display_data"
    }
   ],
   "source": [
    "from sklearn.metrics import roc_curve,auc\n",
    "fpr, tpr, _ = roc_curve(y_test, pred)\n",
    "roc_auc = auc(fpr, tpr)\n",
    "plt.figure()\n",
    "lw = 2\n",
    "plt.plot(fpr, tpr, color='darkorange',\n",
    "lw=lw, label='ROC curve (area = %0.2f)' % roc_auc)\n",
    "plt.plot([0, 1], [0, 1], color='navy', lw=lw, linestyle='--')\n",
    "plt.xlim([0.0, 1.0])\n",
    "plt.ylim([0.0, 1.05])\n",
    "plt.xlabel('False Positive Rate')\n",
    "plt.ylabel('True Positive Rate')\n",
    "plt.title('Receiver operating characteristic example')\n",
    "plt.legend(loc=\"lower right\")\n",
    "plt.show()"
   ]
  },
  {
   "cell_type": "code",
   "execution_count": 86,
   "id": "588bbb0e",
   "metadata": {},
   "outputs": [],
   "source": [
    "model.save('Mask_Detection_MobileNetV2.h5')"
   ]
  },
  {
   "cell_type": "code",
   "execution_count": 122,
   "id": "a7a57bb6",
   "metadata": {},
   "outputs": [
    {
     "name": "stdout",
     "output_type": "stream",
     "text": [
      "Serving 'Mask_Detection_MobileNetV2.h5' at http://localhost:8080\n"
     ]
    },
    {
     "data": {
      "text/plain": [
       "('localhost', 8080)"
      ]
     },
     "execution_count": 122,
     "metadata": {},
     "output_type": "execute_result"
    }
   ],
   "source": [
    "netron.start('Mask_Detection_MobileNetV2.h5')"
   ]
  },
  {
   "cell_type": "markdown",
   "id": "30df4207",
   "metadata": {},
   "source": [
    "### Implementing the model"
   ]
  },
  {
   "cell_type": "code",
   "execution_count": 2,
   "id": "2683469a",
   "metadata": {},
   "outputs": [],
   "source": [
    "from tensorflow.keras.models import load_model"
   ]
  },
  {
   "cell_type": "code",
   "execution_count": 3,
   "id": "b6bf1df5",
   "metadata": {},
   "outputs": [],
   "source": [
    "model = load_model('Mask_Detection_MobileNetV2.h5')"
   ]
  },
  {
   "cell_type": "code",
   "execution_count": 4,
   "id": "47dd16e6",
   "metadata": {},
   "outputs": [],
   "source": [
    "#Loading the cascade\n",
    "face_cascade = cv.CascadeClassifier('haarcascade_frontalface_default.xml')"
   ]
  },
  {
   "cell_type": "code",
   "execution_count": 90,
   "id": "456beee7",
   "metadata": {},
   "outputs": [],
   "source": [
    "def predict_image(filename):\n",
    "    #Reading the input image\n",
    "    img = cv.imread(filename)\n",
    "    img = cv.resize(img,(1024,1024))\n",
    "    #Converting the image into grayscale\n",
    "    gray = cv.cvtColor(img, cv.COLOR_BGR2GRAY)\n",
    "    #Detecting the faces in the images using face_casced\n",
    "    faces_rect = face_cascade.detectMultiScale(gray, 1.1, 4)\n",
    "    for (x,y,w,h) in faces_rect:\n",
    "        \n",
    "        faces_roi = img[y:y+h,x:x+h]\n",
    "        #Resizing the image of face to 32x32x3\n",
    "        faces_roi = cv.resize(faces_roi,(150,150))\n",
    "        #Reshaping the array to convert it into input shape of the model\n",
    "        faces_roi = faces_roi.reshape(1,150,150,3)\n",
    "        #Finding the probability using the model.predict\n",
    "        confidence = model.predict(faces_roi)\n",
    "        if confidence >= 0.5:\n",
    "            label = \"Masked\"+ ' Probability={}'.format(confidence)\n",
    "            #Putting Masked text in the images \n",
    "            cv.putText(img, label, (x, y - 10), cv.FONT_HERSHEY_SIMPLEX, 0.45, (0,255,0), 2)\n",
    "            #Drawing a GREEN coloured rectangle around the face\n",
    "            cv.rectangle(img, (x,y), (x+w,y+h), (0,255,0), thickness=2)\n",
    "        else:\n",
    "            label = \"Not Masked\"+ ' Probability={}'.format(confidence)\n",
    "            #Putting Not Masked text in the images\n",
    "            cv.putText(img, label, (x, y - 10), cv.FONT_HERSHEY_SIMPLEX, 0.45, (0,0,255), 2)\n",
    "            #Drawing a RED coloured rectangle around the face\n",
    "            cv.rectangle(img, (x,y), (x+w,y+h), (0,0,255), thickness=2)\n",
    "        \n",
    "    return img"
   ]
  },
  {
   "cell_type": "code",
   "execution_count": 97,
   "id": "28a8a586",
   "metadata": {},
   "outputs": [],
   "source": [
    "#Capturing an image using the webcam\n",
    "videoCaptureObject = cv.VideoCapture(0)\n",
    "result = True\n",
    "while(result):\n",
    "    ret,frame = videoCaptureObject.read()\n",
    "    cv.imwrite(\"New.jpg\",frame)\n",
    "    result = False\n",
    "videoCaptureObject.release()\n",
    "cv.destroyAllWindows()"
   ]
  },
  {
   "cell_type": "code",
   "execution_count": 98,
   "id": "c3ff6a59",
   "metadata": {},
   "outputs": [],
   "source": [
    "import matplotlib.image as img"
   ]
  },
  {
   "cell_type": "code",
   "execution_count": 99,
   "id": "e8c527ad",
   "metadata": {},
   "outputs": [
    {
     "data": {
      "text/plain": [
       "-1"
      ]
     },
     "execution_count": 99,
     "metadata": {},
     "output_type": "execute_result"
    }
   ],
   "source": [
    "#Predicting and displaying the resultant image image\n",
    "image = predict_image('New.jpg')\n",
    "cv.imshow('img', image)\n",
    "cv.waitKey()\n",
    "#plt.figure(figsize=(12,12))\n",
    "#plt.imshow(image)"
   ]
  },
  {
   "cell_type": "code",
   "execution_count": 7,
   "id": "1f45b576",
   "metadata": {},
   "outputs": [],
   "source": [
    "import cv2\n",
    "import datetime\n",
    "from keras.preprocessing import image"
   ]
  },
  {
   "cell_type": "code",
   "execution_count": 8,
   "id": "54443488",
   "metadata": {
    "scrolled": true
   },
   "outputs": [
    {
     "name": "stdout",
     "output_type": "stream",
     "text": [
      "1/1 [==============================] - 1s 715ms/step\n",
      "1/1 [==============================] - 0s 43ms/step\n",
      "1/1 [==============================] - 0s 42ms/step\n",
      "1/1 [==============================] - 0s 38ms/step\n",
      "1/1 [==============================] - 0s 41ms/step\n",
      "1/1 [==============================] - 0s 47ms/step\n",
      "1/1 [==============================] - 0s 37ms/step\n",
      "1/1 [==============================] - 0s 44ms/step\n",
      "1/1 [==============================] - 0s 40ms/step\n",
      "1/1 [==============================] - 0s 40ms/step\n",
      "1/1 [==============================] - 0s 39ms/step\n",
      "1/1 [==============================] - 0s 44ms/step\n",
      "1/1 [==============================] - 0s 45ms/step\n",
      "1/1 [==============================] - 0s 34ms/step\n",
      "1/1 [==============================] - 0s 36ms/step\n",
      "1/1 [==============================] - 0s 38ms/step\n",
      "1/1 [==============================] - 0s 40ms/step\n",
      "1/1 [==============================] - 0s 39ms/step\n",
      "1/1 [==============================] - 0s 40ms/step\n",
      "1/1 [==============================] - 0s 36ms/step\n",
      "1/1 [==============================] - 0s 46ms/step\n",
      "1/1 [==============================] - 0s 38ms/step\n",
      "1/1 [==============================] - 0s 46ms/step\n",
      "1/1 [==============================] - 0s 40ms/step\n",
      "1/1 [==============================] - 0s 45ms/step\n",
      "1/1 [==============================] - 0s 47ms/step\n",
      "1/1 [==============================] - 0s 40ms/step\n",
      "1/1 [==============================] - 0s 39ms/step\n",
      "1/1 [==============================] - 0s 37ms/step\n",
      "1/1 [==============================] - 0s 39ms/step\n",
      "1/1 [==============================] - 0s 40ms/step\n",
      "1/1 [==============================] - 0s 36ms/step\n",
      "1/1 [==============================] - 0s 38ms/step\n",
      "1/1 [==============================] - 0s 41ms/step\n",
      "1/1 [==============================] - 0s 38ms/step\n",
      "1/1 [==============================] - 0s 38ms/step\n",
      "1/1 [==============================] - 0s 41ms/step\n",
      "1/1 [==============================] - 0s 36ms/step\n",
      "1/1 [==============================] - 0s 35ms/step\n",
      "1/1 [==============================] - 0s 37ms/step\n",
      "1/1 [==============================] - 0s 38ms/step\n",
      "1/1 [==============================] - 0s 41ms/step\n",
      "1/1 [==============================] - 0s 43ms/step\n",
      "1/1 [==============================] - 0s 36ms/step\n",
      "1/1 [==============================] - 0s 39ms/step\n",
      "1/1 [==============================] - 0s 39ms/step\n",
      "1/1 [==============================] - 0s 37ms/step\n",
      "1/1 [==============================] - 0s 42ms/step\n",
      "1/1 [==============================] - 0s 42ms/step\n",
      "1/1 [==============================] - 0s 42ms/step\n",
      "1/1 [==============================] - 0s 47ms/step\n",
      "1/1 [==============================] - 0s 36ms/step\n",
      "1/1 [==============================] - 0s 44ms/step\n",
      "1/1 [==============================] - 0s 43ms/step\n",
      "1/1 [==============================] - 0s 39ms/step\n",
      "1/1 [==============================] - 0s 43ms/step\n",
      "1/1 [==============================] - 0s 39ms/step\n",
      "1/1 [==============================] - 0s 45ms/step\n",
      "1/1 [==============================] - 0s 42ms/step\n",
      "1/1 [==============================] - 0s 40ms/step\n",
      "1/1 [==============================] - 0s 38ms/step\n",
      "1/1 [==============================] - 0s 39ms/step\n",
      "1/1 [==============================] - 0s 38ms/step\n",
      "1/1 [==============================] - 0s 42ms/step\n",
      "1/1 [==============================] - 0s 43ms/step\n",
      "1/1 [==============================] - 0s 38ms/step\n",
      "1/1 [==============================] - 0s 40ms/step\n",
      "1/1 [==============================] - 0s 38ms/step\n",
      "1/1 [==============================] - 0s 42ms/step\n",
      "1/1 [==============================] - 0s 37ms/step\n",
      "1/1 [==============================] - 0s 42ms/step\n",
      "1/1 [==============================] - 0s 39ms/step\n",
      "1/1 [==============================] - 0s 41ms/step\n",
      "1/1 [==============================] - 0s 39ms/step\n",
      "1/1 [==============================] - 0s 39ms/step\n",
      "1/1 [==============================] - 0s 39ms/step\n",
      "1/1 [==============================] - 0s 41ms/step\n",
      "1/1 [==============================] - 0s 44ms/step\n",
      "1/1 [==============================] - 0s 40ms/step\n",
      "1/1 [==============================] - 0s 38ms/step\n",
      "1/1 [==============================] - 0s 35ms/step\n",
      "1/1 [==============================] - 0s 35ms/step\n",
      "1/1 [==============================] - 0s 35ms/step\n",
      "1/1 [==============================] - 0s 38ms/step\n",
      "1/1 [==============================] - 0s 39ms/step\n",
      "1/1 [==============================] - 0s 39ms/step\n",
      "1/1 [==============================] - 0s 37ms/step\n",
      "1/1 [==============================] - 0s 38ms/step\n",
      "1/1 [==============================] - 0s 38ms/step\n",
      "1/1 [==============================] - 0s 39ms/step\n",
      "1/1 [==============================] - 0s 37ms/step\n",
      "1/1 [==============================] - 0s 40ms/step\n",
      "1/1 [==============================] - 0s 39ms/step\n",
      "1/1 [==============================] - 0s 38ms/step\n",
      "1/1 [==============================] - 0s 38ms/step\n",
      "1/1 [==============================] - 0s 41ms/step\n",
      "1/1 [==============================] - 0s 43ms/step\n",
      "1/1 [==============================] - 0s 38ms/step\n",
      "1/1 [==============================] - 0s 37ms/step\n",
      "1/1 [==============================] - 0s 40ms/step\n",
      "1/1 [==============================] - 0s 42ms/step\n",
      "1/1 [==============================] - 0s 37ms/step\n",
      "1/1 [==============================] - 0s 39ms/step\n",
      "1/1 [==============================] - 0s 39ms/step\n",
      "1/1 [==============================] - 0s 40ms/step\n",
      "1/1 [==============================] - 0s 38ms/step\n",
      "1/1 [==============================] - 0s 37ms/step\n",
      "1/1 [==============================] - 0s 37ms/step\n",
      "1/1 [==============================] - 0s 39ms/step\n",
      "1/1 [==============================] - 0s 41ms/step\n",
      "1/1 [==============================] - 0s 44ms/step\n",
      "1/1 [==============================] - 0s 42ms/step\n",
      "1/1 [==============================] - 0s 39ms/step\n",
      "1/1 [==============================] - 0s 43ms/step\n",
      "1/1 [==============================] - 0s 38ms/step\n",
      "1/1 [==============================] - 0s 40ms/step\n",
      "1/1 [==============================] - 0s 36ms/step\n",
      "1/1 [==============================] - 0s 41ms/step\n",
      "1/1 [==============================] - 0s 40ms/step\n",
      "1/1 [==============================] - 0s 39ms/step\n",
      "1/1 [==============================] - 0s 41ms/step\n",
      "1/1 [==============================] - 0s 40ms/step\n",
      "1/1 [==============================] - 0s 38ms/step\n",
      "1/1 [==============================] - 0s 42ms/step\n",
      "1/1 [==============================] - 0s 37ms/step\n",
      "1/1 [==============================] - 0s 39ms/step\n",
      "1/1 [==============================] - 0s 40ms/step\n",
      "1/1 [==============================] - 0s 40ms/step\n",
      "1/1 [==============================] - 0s 38ms/step\n",
      "1/1 [==============================] - 0s 40ms/step\n",
      "1/1 [==============================] - 0s 41ms/step\n",
      "1/1 [==============================] - 0s 40ms/step\n",
      "1/1 [==============================] - 0s 39ms/step\n",
      "1/1 [==============================] - 0s 39ms/step\n",
      "1/1 [==============================] - 0s 38ms/step\n",
      "1/1 [==============================] - 0s 43ms/step\n",
      "1/1 [==============================] - 0s 37ms/step\n",
      "1/1 [==============================] - 0s 37ms/step\n",
      "1/1 [==============================] - 0s 37ms/step\n",
      "1/1 [==============================] - 0s 40ms/step\n",
      "1/1 [==============================] - 0s 44ms/step\n",
      "1/1 [==============================] - 0s 36ms/step\n",
      "1/1 [==============================] - 0s 40ms/step\n",
      "1/1 [==============================] - 0s 40ms/step\n",
      "1/1 [==============================] - 0s 35ms/step\n",
      "1/1 [==============================] - 0s 39ms/step\n",
      "1/1 [==============================] - 0s 37ms/step\n",
      "1/1 [==============================] - 0s 38ms/step\n",
      "1/1 [==============================] - 0s 38ms/step\n",
      "1/1 [==============================] - 0s 39ms/step\n",
      "1/1 [==============================] - 0s 39ms/step\n",
      "1/1 [==============================] - 0s 38ms/step\n",
      "1/1 [==============================] - 0s 37ms/step\n",
      "1/1 [==============================] - 0s 36ms/step\n",
      "1/1 [==============================] - 0s 43ms/step\n",
      "1/1 [==============================] - 0s 40ms/step\n",
      "1/1 [==============================] - 0s 40ms/step\n"
     ]
    },
    {
     "name": "stdout",
     "output_type": "stream",
     "text": [
      "1/1 [==============================] - 0s 39ms/step\n",
      "1/1 [==============================] - 0s 39ms/step\n",
      "1/1 [==============================] - 0s 41ms/step\n",
      "1/1 [==============================] - 0s 40ms/step\n",
      "1/1 [==============================] - 0s 44ms/step\n",
      "1/1 [==============================] - 0s 44ms/step\n",
      "1/1 [==============================] - 0s 44ms/step\n",
      "1/1 [==============================] - 0s 38ms/step\n",
      "1/1 [==============================] - 0s 41ms/step\n",
      "1/1 [==============================] - 0s 36ms/step\n",
      "1/1 [==============================] - 0s 37ms/step\n",
      "1/1 [==============================] - 0s 40ms/step\n",
      "1/1 [==============================] - 0s 35ms/step\n",
      "1/1 [==============================] - 0s 39ms/step\n",
      "1/1 [==============================] - 0s 37ms/step\n",
      "1/1 [==============================] - 0s 41ms/step\n",
      "1/1 [==============================] - 0s 41ms/step\n",
      "1/1 [==============================] - 0s 37ms/step\n",
      "1/1 [==============================] - 0s 38ms/step\n",
      "1/1 [==============================] - 0s 38ms/step\n",
      "1/1 [==============================] - 0s 38ms/step\n",
      "1/1 [==============================] - 0s 41ms/step\n",
      "1/1 [==============================] - 0s 40ms/step\n",
      "1/1 [==============================] - 0s 36ms/step\n",
      "1/1 [==============================] - 0s 38ms/step\n",
      "1/1 [==============================] - 0s 40ms/step\n",
      "1/1 [==============================] - 0s 40ms/step\n",
      "1/1 [==============================] - 0s 40ms/step\n",
      "1/1 [==============================] - 0s 37ms/step\n",
      "1/1 [==============================] - 0s 41ms/step\n",
      "1/1 [==============================] - 0s 37ms/step\n",
      "1/1 [==============================] - 0s 39ms/step\n",
      "1/1 [==============================] - 0s 43ms/step\n",
      "1/1 [==============================] - 0s 41ms/step\n",
      "1/1 [==============================] - 0s 38ms/step\n",
      "1/1 [==============================] - 0s 42ms/step\n",
      "1/1 [==============================] - 0s 44ms/step\n",
      "1/1 [==============================] - 0s 39ms/step\n",
      "1/1 [==============================] - 0s 35ms/step\n",
      "1/1 [==============================] - 0s 35ms/step\n",
      "1/1 [==============================] - 0s 37ms/step\n",
      "1/1 [==============================] - 0s 38ms/step\n",
      "1/1 [==============================] - 0s 36ms/step\n",
      "1/1 [==============================] - 0s 35ms/step\n",
      "1/1 [==============================] - 0s 38ms/step\n",
      "1/1 [==============================] - 0s 37ms/step\n",
      "1/1 [==============================] - 0s 38ms/step\n",
      "1/1 [==============================] - 0s 36ms/step\n",
      "1/1 [==============================] - 0s 37ms/step\n",
      "1/1 [==============================] - 0s 38ms/step\n",
      "1/1 [==============================] - 0s 40ms/step\n",
      "1/1 [==============================] - 0s 40ms/step\n",
      "1/1 [==============================] - 0s 42ms/step\n",
      "1/1 [==============================] - 0s 42ms/step\n",
      "1/1 [==============================] - 0s 42ms/step\n",
      "1/1 [==============================] - 0s 40ms/step\n",
      "1/1 [==============================] - 0s 37ms/step\n",
      "1/1 [==============================] - 0s 38ms/step\n",
      "1/1 [==============================] - 0s 40ms/step\n",
      "1/1 [==============================] - 0s 41ms/step\n",
      "1/1 [==============================] - 0s 39ms/step\n",
      "1/1 [==============================] - 0s 41ms/step\n",
      "1/1 [==============================] - 0s 40ms/step\n",
      "1/1 [==============================] - 0s 39ms/step\n",
      "1/1 [==============================] - 0s 41ms/step\n",
      "1/1 [==============================] - 0s 38ms/step\n",
      "1/1 [==============================] - 0s 36ms/step\n",
      "1/1 [==============================] - 0s 41ms/step\n",
      "1/1 [==============================] - 0s 39ms/step\n",
      "1/1 [==============================] - 0s 40ms/step\n",
      "1/1 [==============================] - 0s 42ms/step\n",
      "1/1 [==============================] - 0s 38ms/step\n",
      "1/1 [==============================] - 0s 42ms/step\n",
      "1/1 [==============================] - 0s 38ms/step\n",
      "1/1 [==============================] - 0s 38ms/step\n",
      "1/1 [==============================] - 0s 41ms/step\n",
      "1/1 [==============================] - 0s 38ms/step\n",
      "1/1 [==============================] - 0s 39ms/step\n",
      "1/1 [==============================] - 0s 39ms/step\n",
      "1/1 [==============================] - 0s 37ms/step\n",
      "1/1 [==============================] - 0s 39ms/step\n",
      "1/1 [==============================] - 0s 39ms/step\n",
      "1/1 [==============================] - 0s 37ms/step\n",
      "1/1 [==============================] - 0s 39ms/step\n",
      "1/1 [==============================] - 0s 39ms/step\n",
      "1/1 [==============================] - 0s 41ms/step\n",
      "1/1 [==============================] - 0s 40ms/step\n",
      "1/1 [==============================] - 0s 41ms/step\n",
      "1/1 [==============================] - 0s 41ms/step\n",
      "1/1 [==============================] - 0s 44ms/step\n",
      "1/1 [==============================] - 0s 43ms/step\n",
      "1/1 [==============================] - 0s 41ms/step\n",
      "1/1 [==============================] - 0s 39ms/step\n",
      "1/1 [==============================] - 0s 41ms/step\n",
      "1/1 [==============================] - 0s 41ms/step\n",
      "1/1 [==============================] - 0s 39ms/step\n",
      "1/1 [==============================] - 0s 39ms/step\n",
      "1/1 [==============================] - 0s 39ms/step\n",
      "1/1 [==============================] - 0s 39ms/step\n",
      "1/1 [==============================] - 0s 40ms/step\n",
      "1/1 [==============================] - 0s 40ms/step\n",
      "1/1 [==============================] - 0s 44ms/step\n",
      "1/1 [==============================] - 0s 42ms/step\n",
      "1/1 [==============================] - 0s 40ms/step\n",
      "1/1 [==============================] - 0s 37ms/step\n",
      "1/1 [==============================] - 0s 38ms/step\n",
      "1/1 [==============================] - 0s 38ms/step\n",
      "1/1 [==============================] - 0s 41ms/step\n",
      "1/1 [==============================] - 0s 40ms/step\n",
      "1/1 [==============================] - 0s 39ms/step\n",
      "1/1 [==============================] - 0s 41ms/step\n",
      "1/1 [==============================] - 0s 39ms/step\n",
      "1/1 [==============================] - 0s 39ms/step\n",
      "1/1 [==============================] - 0s 37ms/step\n",
      "1/1 [==============================] - 0s 42ms/step\n",
      "1/1 [==============================] - 0s 40ms/step\n",
      "1/1 [==============================] - 0s 39ms/step\n",
      "1/1 [==============================] - 0s 37ms/step\n",
      "1/1 [==============================] - 0s 39ms/step\n",
      "1/1 [==============================] - 0s 37ms/step\n",
      "1/1 [==============================] - 0s 41ms/step\n",
      "1/1 [==============================] - 0s 41ms/step\n",
      "1/1 [==============================] - 0s 38ms/step\n",
      "1/1 [==============================] - 0s 37ms/step\n",
      "1/1 [==============================] - 0s 38ms/step\n",
      "1/1 [==============================] - 0s 41ms/step\n",
      "1/1 [==============================] - 0s 38ms/step\n",
      "1/1 [==============================] - 0s 37ms/step\n",
      "1/1 [==============================] - 0s 45ms/step\n",
      "1/1 [==============================] - 0s 34ms/step\n",
      "1/1 [==============================] - 0s 38ms/step\n",
      "1/1 [==============================] - 0s 39ms/step\n",
      "1/1 [==============================] - 0s 38ms/step\n",
      "1/1 [==============================] - 0s 39ms/step\n",
      "1/1 [==============================] - 0s 38ms/step\n",
      "1/1 [==============================] - 0s 37ms/step\n",
      "1/1 [==============================] - 0s 38ms/step\n",
      "1/1 [==============================] - 0s 41ms/step\n",
      "1/1 [==============================] - 0s 39ms/step\n",
      "1/1 [==============================] - 0s 41ms/step\n",
      "1/1 [==============================] - 0s 38ms/step\n",
      "1/1 [==============================] - 0s 33ms/step\n",
      "1/1 [==============================] - 0s 39ms/step\n",
      "1/1 [==============================] - 0s 37ms/step\n",
      "1/1 [==============================] - 0s 36ms/step\n",
      "1/1 [==============================] - 0s 38ms/step\n",
      "1/1 [==============================] - 0s 39ms/step\n",
      "1/1 [==============================] - 0s 39ms/step\n",
      "1/1 [==============================] - 0s 41ms/step\n",
      "1/1 [==============================] - 0s 36ms/step\n",
      "1/1 [==============================] - 0s 37ms/step\n",
      "1/1 [==============================] - 0s 41ms/step\n",
      "1/1 [==============================] - 0s 40ms/step\n",
      "1/1 [==============================] - 0s 39ms/step\n",
      "1/1 [==============================] - 0s 36ms/step\n",
      "1/1 [==============================] - 0s 37ms/step\n",
      "1/1 [==============================] - 0s 38ms/step\n"
     ]
    },
    {
     "name": "stdout",
     "output_type": "stream",
     "text": [
      "1/1 [==============================] - 0s 40ms/step\n",
      "1/1 [==============================] - 0s 47ms/step\n",
      "1/1 [==============================] - 0s 42ms/step\n",
      "1/1 [==============================] - 0s 42ms/step\n",
      "1/1 [==============================] - 0s 40ms/step\n",
      "1/1 [==============================] - 0s 40ms/step\n",
      "1/1 [==============================] - 0s 41ms/step\n",
      "1/1 [==============================] - 0s 40ms/step\n",
      "1/1 [==============================] - 0s 41ms/step\n",
      "1/1 [==============================] - 0s 40ms/step\n",
      "1/1 [==============================] - 0s 43ms/step\n",
      "1/1 [==============================] - 0s 36ms/step\n",
      "1/1 [==============================] - 0s 35ms/step\n",
      "1/1 [==============================] - 0s 39ms/step\n",
      "1/1 [==============================] - 0s 35ms/step\n",
      "1/1 [==============================] - 0s 39ms/step\n",
      "1/1 [==============================] - 0s 45ms/step\n",
      "1/1 [==============================] - 0s 35ms/step\n",
      "1/1 [==============================] - 0s 40ms/step\n",
      "1/1 [==============================] - 0s 38ms/step\n",
      "1/1 [==============================] - 0s 38ms/step\n",
      "1/1 [==============================] - 0s 38ms/step\n",
      "1/1 [==============================] - 0s 36ms/step\n",
      "1/1 [==============================] - 0s 41ms/step\n",
      "1/1 [==============================] - 0s 41ms/step\n",
      "1/1 [==============================] - 0s 39ms/step\n",
      "1/1 [==============================] - 0s 37ms/step\n",
      "1/1 [==============================] - 0s 34ms/step\n",
      "1/1 [==============================] - 0s 35ms/step\n",
      "1/1 [==============================] - 0s 33ms/step\n",
      "1/1 [==============================] - 0s 38ms/step\n",
      "1/1 [==============================] - 0s 43ms/step\n",
      "1/1 [==============================] - 0s 43ms/step\n",
      "1/1 [==============================] - 0s 44ms/step\n",
      "1/1 [==============================] - 0s 43ms/step\n",
      "1/1 [==============================] - 0s 41ms/step\n",
      "1/1 [==============================] - 0s 41ms/step\n",
      "1/1 [==============================] - 0s 36ms/step\n",
      "1/1 [==============================] - 0s 42ms/step\n",
      "1/1 [==============================] - 0s 40ms/step\n",
      "1/1 [==============================] - 0s 42ms/step\n",
      "1/1 [==============================] - 0s 43ms/step\n",
      "1/1 [==============================] - 0s 40ms/step\n",
      "1/1 [==============================] - 0s 40ms/step\n",
      "1/1 [==============================] - 0s 41ms/step\n",
      "1/1 [==============================] - 0s 44ms/step\n",
      "1/1 [==============================] - 0s 40ms/step\n",
      "1/1 [==============================] - 0s 42ms/step\n",
      "1/1 [==============================] - 0s 41ms/step\n",
      "1/1 [==============================] - 0s 38ms/step\n",
      "1/1 [==============================] - 0s 41ms/step\n",
      "1/1 [==============================] - 0s 34ms/step\n",
      "1/1 [==============================] - 0s 40ms/step\n",
      "1/1 [==============================] - 0s 34ms/step\n",
      "1/1 [==============================] - 0s 40ms/step\n",
      "1/1 [==============================] - 0s 37ms/step\n",
      "1/1 [==============================] - 0s 40ms/step\n",
      "1/1 [==============================] - 0s 36ms/step\n",
      "1/1 [==============================] - 0s 39ms/step\n",
      "1/1 [==============================] - 0s 40ms/step\n",
      "1/1 [==============================] - 0s 35ms/step\n",
      "1/1 [==============================] - 0s 34ms/step\n",
      "1/1 [==============================] - 0s 34ms/step\n",
      "1/1 [==============================] - 0s 40ms/step\n",
      "1/1 [==============================] - 0s 38ms/step\n",
      "1/1 [==============================] - 0s 41ms/step\n",
      "1/1 [==============================] - 0s 38ms/step\n",
      "1/1 [==============================] - 0s 41ms/step\n",
      "1/1 [==============================] - 0s 42ms/step\n",
      "1/1 [==============================] - 0s 45ms/step\n",
      "1/1 [==============================] - 0s 39ms/step\n",
      "1/1 [==============================] - 0s 40ms/step\n",
      "1/1 [==============================] - 0s 41ms/step\n",
      "1/1 [==============================] - 0s 36ms/step\n",
      "1/1 [==============================] - 0s 38ms/step\n",
      "1/1 [==============================] - 0s 39ms/step\n",
      "1/1 [==============================] - 0s 40ms/step\n",
      "1/1 [==============================] - 0s 39ms/step\n",
      "1/1 [==============================] - 0s 39ms/step\n",
      "1/1 [==============================] - 0s 40ms/step\n",
      "1/1 [==============================] - 0s 39ms/step\n",
      "1/1 [==============================] - 0s 39ms/step\n",
      "1/1 [==============================] - 0s 42ms/step\n",
      "1/1 [==============================] - 0s 43ms/step\n",
      "1/1 [==============================] - 0s 42ms/step\n",
      "1/1 [==============================] - 0s 38ms/step\n",
      "1/1 [==============================] - 0s 37ms/step\n",
      "1/1 [==============================] - 0s 42ms/step\n",
      "1/1 [==============================] - 0s 40ms/step\n",
      "1/1 [==============================] - 0s 41ms/step\n",
      "1/1 [==============================] - 0s 41ms/step\n",
      "1/1 [==============================] - 0s 36ms/step\n",
      "1/1 [==============================] - 0s 44ms/step\n",
      "1/1 [==============================] - 0s 42ms/step\n",
      "1/1 [==============================] - 0s 42ms/step\n",
      "1/1 [==============================] - 0s 40ms/step\n",
      "1/1 [==============================] - 0s 46ms/step\n",
      "1/1 [==============================] - 0s 39ms/step\n",
      "1/1 [==============================] - 0s 34ms/step\n",
      "1/1 [==============================] - 0s 37ms/step\n",
      "1/1 [==============================] - 0s 39ms/step\n",
      "1/1 [==============================] - 0s 41ms/step\n",
      "1/1 [==============================] - 0s 38ms/step\n",
      "1/1 [==============================] - 0s 42ms/step\n",
      "1/1 [==============================] - 0s 40ms/step\n",
      "1/1 [==============================] - 0s 38ms/step\n",
      "1/1 [==============================] - 0s 37ms/step\n",
      "1/1 [==============================] - 0s 38ms/step\n",
      "1/1 [==============================] - 0s 37ms/step\n",
      "1/1 [==============================] - 0s 37ms/step\n",
      "1/1 [==============================] - 0s 35ms/step\n",
      "1/1 [==============================] - 0s 36ms/step\n",
      "1/1 [==============================] - 0s 45ms/step\n",
      "1/1 [==============================] - 0s 37ms/step\n",
      "1/1 [==============================] - 0s 51ms/step\n",
      "1/1 [==============================] - 0s 37ms/step\n",
      "1/1 [==============================] - 0s 36ms/step\n",
      "1/1 [==============================] - 0s 36ms/step\n",
      "1/1 [==============================] - 0s 38ms/step\n",
      "1/1 [==============================] - 0s 38ms/step\n",
      "1/1 [==============================] - 0s 39ms/step\n",
      "1/1 [==============================] - 0s 46ms/step\n",
      "1/1 [==============================] - 0s 49ms/step\n",
      "1/1 [==============================] - 0s 40ms/step\n",
      "1/1 [==============================] - 0s 48ms/step\n",
      "1/1 [==============================] - 0s 43ms/step\n",
      "1/1 [==============================] - 0s 45ms/step\n",
      "1/1 [==============================] - 0s 42ms/step\n",
      "1/1 [==============================] - 0s 44ms/step\n",
      "1/1 [==============================] - 0s 38ms/step\n",
      "1/1 [==============================] - 0s 39ms/step\n",
      "1/1 [==============================] - 0s 36ms/step\n",
      "1/1 [==============================] - 0s 36ms/step\n",
      "1/1 [==============================] - 0s 36ms/step\n",
      "1/1 [==============================] - 0s 36ms/step\n",
      "1/1 [==============================] - 0s 37ms/step\n",
      "1/1 [==============================] - 0s 38ms/step\n",
      "1/1 [==============================] - 0s 37ms/step\n",
      "1/1 [==============================] - 0s 35ms/step\n",
      "1/1 [==============================] - 0s 39ms/step\n",
      "1/1 [==============================] - 0s 37ms/step\n",
      "1/1 [==============================] - 0s 36ms/step\n",
      "1/1 [==============================] - 0s 40ms/step\n",
      "1/1 [==============================] - 0s 35ms/step\n",
      "1/1 [==============================] - 0s 39ms/step\n",
      "1/1 [==============================] - 0s 36ms/step\n",
      "1/1 [==============================] - 0s 38ms/step\n",
      "1/1 [==============================] - 0s 36ms/step\n",
      "1/1 [==============================] - 0s 38ms/step\n",
      "1/1 [==============================] - 0s 40ms/step\n",
      "1/1 [==============================] - 0s 38ms/step\n",
      "1/1 [==============================] - 0s 37ms/step\n",
      "1/1 [==============================] - 0s 38ms/step\n",
      "1/1 [==============================] - 0s 36ms/step\n",
      "1/1 [==============================] - 0s 38ms/step\n",
      "1/1 [==============================] - 0s 38ms/step\n",
      "1/1 [==============================] - 0s 37ms/step\n"
     ]
    },
    {
     "name": "stdout",
     "output_type": "stream",
     "text": [
      "1/1 [==============================] - 0s 38ms/step\n",
      "1/1 [==============================] - 0s 40ms/step\n",
      "1/1 [==============================] - 0s 38ms/step\n",
      "1/1 [==============================] - 0s 35ms/step\n",
      "1/1 [==============================] - 0s 35ms/step\n",
      "1/1 [==============================] - 0s 38ms/step\n",
      "1/1 [==============================] - 0s 39ms/step\n",
      "1/1 [==============================] - 0s 40ms/step\n",
      "1/1 [==============================] - 0s 38ms/step\n",
      "1/1 [==============================] - 0s 35ms/step\n",
      "1/1 [==============================] - 0s 39ms/step\n",
      "1/1 [==============================] - 0s 38ms/step\n",
      "1/1 [==============================] - 0s 39ms/step\n",
      "1/1 [==============================] - 0s 35ms/step\n",
      "1/1 [==============================] - 0s 35ms/step\n",
      "1/1 [==============================] - 0s 37ms/step\n",
      "1/1 [==============================] - 0s 42ms/step\n",
      "1/1 [==============================] - 0s 38ms/step\n",
      "1/1 [==============================] - 0s 39ms/step\n",
      "1/1 [==============================] - 0s 40ms/step\n",
      "1/1 [==============================] - 0s 39ms/step\n",
      "1/1 [==============================] - 0s 43ms/step\n",
      "1/1 [==============================] - 0s 42ms/step\n",
      "1/1 [==============================] - 0s 43ms/step\n",
      "1/1 [==============================] - 0s 41ms/step\n",
      "1/1 [==============================] - 0s 42ms/step\n",
      "1/1 [==============================] - 0s 43ms/step\n",
      "1/1 [==============================] - 0s 44ms/step\n",
      "1/1 [==============================] - 0s 47ms/step\n",
      "1/1 [==============================] - 0s 46ms/step\n",
      "1/1 [==============================] - 0s 38ms/step\n",
      "1/1 [==============================] - 0s 36ms/step\n",
      "1/1 [==============================] - 0s 35ms/step\n",
      "1/1 [==============================] - 0s 40ms/step\n",
      "1/1 [==============================] - 0s 39ms/step\n",
      "1/1 [==============================] - 0s 39ms/step\n",
      "1/1 [==============================] - 0s 43ms/step\n",
      "1/1 [==============================] - 0s 36ms/step\n",
      "1/1 [==============================] - 0s 41ms/step\n",
      "1/1 [==============================] - 0s 38ms/step\n",
      "1/1 [==============================] - 0s 41ms/step\n",
      "1/1 [==============================] - 0s 39ms/step\n",
      "1/1 [==============================] - 0s 39ms/step\n",
      "1/1 [==============================] - 0s 42ms/step\n",
      "1/1 [==============================] - 0s 41ms/step\n",
      "1/1 [==============================] - 0s 36ms/step\n",
      "1/1 [==============================] - 0s 39ms/step\n",
      "1/1 [==============================] - 0s 37ms/step\n",
      "1/1 [==============================] - 0s 38ms/step\n",
      "1/1 [==============================] - 0s 39ms/step\n",
      "1/1 [==============================] - 0s 43ms/step\n",
      "1/1 [==============================] - 0s 45ms/step\n",
      "1/1 [==============================] - 0s 41ms/step\n",
      "1/1 [==============================] - 0s 37ms/step\n",
      "1/1 [==============================] - 0s 42ms/step\n",
      "1/1 [==============================] - 0s 43ms/step\n",
      "1/1 [==============================] - 0s 38ms/step\n",
      "1/1 [==============================] - 0s 40ms/step\n",
      "1/1 [==============================] - 0s 40ms/step\n",
      "1/1 [==============================] - 0s 39ms/step\n",
      "1/1 [==============================] - 0s 42ms/step\n",
      "1/1 [==============================] - 0s 41ms/step\n",
      "1/1 [==============================] - 0s 40ms/step\n",
      "1/1 [==============================] - 0s 37ms/step\n",
      "1/1 [==============================] - 0s 38ms/step\n",
      "1/1 [==============================] - 0s 38ms/step\n",
      "1/1 [==============================] - 0s 41ms/step\n",
      "1/1 [==============================] - 0s 37ms/step\n",
      "1/1 [==============================] - 0s 35ms/step\n",
      "1/1 [==============================] - 0s 39ms/step\n",
      "1/1 [==============================] - 0s 36ms/step\n",
      "1/1 [==============================] - 0s 37ms/step\n",
      "1/1 [==============================] - 0s 38ms/step\n",
      "1/1 [==============================] - 0s 38ms/step\n",
      "1/1 [==============================] - 0s 36ms/step\n",
      "1/1 [==============================] - 0s 42ms/step\n",
      "1/1 [==============================] - 0s 34ms/step\n",
      "1/1 [==============================] - 0s 37ms/step\n",
      "1/1 [==============================] - 0s 37ms/step\n",
      "1/1 [==============================] - 0s 41ms/step\n",
      "1/1 [==============================] - 0s 39ms/step\n",
      "1/1 [==============================] - 0s 41ms/step\n",
      "1/1 [==============================] - 0s 37ms/step\n",
      "1/1 [==============================] - 0s 38ms/step\n",
      "1/1 [==============================] - 0s 36ms/step\n",
      "1/1 [==============================] - 0s 40ms/step\n",
      "1/1 [==============================] - 0s 42ms/step\n",
      "1/1 [==============================] - 0s 41ms/step\n",
      "1/1 [==============================] - 0s 41ms/step\n",
      "1/1 [==============================] - 0s 40ms/step\n",
      "1/1 [==============================] - 0s 36ms/step\n",
      "1/1 [==============================] - 0s 35ms/step\n",
      "1/1 [==============================] - 0s 34ms/step\n",
      "1/1 [==============================] - 0s 38ms/step\n",
      "1/1 [==============================] - 0s 36ms/step\n",
      "1/1 [==============================] - 0s 37ms/step\n",
      "1/1 [==============================] - 0s 38ms/step\n",
      "1/1 [==============================] - 0s 38ms/step\n",
      "1/1 [==============================] - 0s 36ms/step\n",
      "1/1 [==============================] - 0s 39ms/step\n",
      "1/1 [==============================] - 0s 37ms/step\n",
      "1/1 [==============================] - 0s 34ms/step\n",
      "1/1 [==============================] - 0s 37ms/step\n",
      "1/1 [==============================] - 0s 36ms/step\n",
      "1/1 [==============================] - 0s 40ms/step\n",
      "1/1 [==============================] - 0s 38ms/step\n",
      "1/1 [==============================] - 0s 40ms/step\n",
      "1/1 [==============================] - 0s 38ms/step\n",
      "1/1 [==============================] - 0s 38ms/step\n",
      "1/1 [==============================] - 0s 42ms/step\n",
      "1/1 [==============================] - 0s 40ms/step\n",
      "1/1 [==============================] - 0s 40ms/step\n",
      "1/1 [==============================] - 0s 41ms/step\n",
      "1/1 [==============================] - 0s 39ms/step\n",
      "1/1 [==============================] - 0s 40ms/step\n",
      "1/1 [==============================] - 0s 43ms/step\n",
      "1/1 [==============================] - 0s 39ms/step\n",
      "1/1 [==============================] - 0s 38ms/step\n",
      "1/1 [==============================] - 0s 39ms/step\n",
      "1/1 [==============================] - 0s 39ms/step\n",
      "1/1 [==============================] - 0s 47ms/step\n",
      "1/1 [==============================] - 0s 39ms/step\n",
      "1/1 [==============================] - 0s 41ms/step\n",
      "1/1 [==============================] - 0s 38ms/step\n",
      "1/1 [==============================] - 0s 35ms/step\n",
      "1/1 [==============================] - 0s 36ms/step\n",
      "1/1 [==============================] - 0s 38ms/step\n",
      "1/1 [==============================] - 0s 37ms/step\n",
      "1/1 [==============================] - 0s 46ms/step\n",
      "1/1 [==============================] - 0s 37ms/step\n",
      "1/1 [==============================] - 0s 41ms/step\n",
      "1/1 [==============================] - 0s 41ms/step\n",
      "1/1 [==============================] - 0s 38ms/step\n",
      "1/1 [==============================] - 0s 44ms/step\n",
      "1/1 [==============================] - 0s 42ms/step\n",
      "1/1 [==============================] - 0s 50ms/step\n",
      "1/1 [==============================] - 0s 35ms/step\n",
      "1/1 [==============================] - 0s 36ms/step\n",
      "1/1 [==============================] - 0s 39ms/step\n",
      "1/1 [==============================] - 0s 41ms/step\n",
      "1/1 [==============================] - 0s 40ms/step\n",
      "1/1 [==============================] - 0s 41ms/step\n",
      "1/1 [==============================] - 0s 38ms/step\n",
      "1/1 [==============================] - 0s 42ms/step\n",
      "1/1 [==============================] - 0s 40ms/step\n",
      "1/1 [==============================] - 0s 39ms/step\n",
      "1/1 [==============================] - 0s 40ms/step\n",
      "1/1 [==============================] - 0s 37ms/step\n",
      "1/1 [==============================] - 0s 41ms/step\n",
      "1/1 [==============================] - 0s 43ms/step\n",
      "1/1 [==============================] - 0s 45ms/step\n",
      "1/1 [==============================] - 0s 41ms/step\n",
      "1/1 [==============================] - 0s 39ms/step\n",
      "1/1 [==============================] - 0s 44ms/step\n",
      "1/1 [==============================] - 0s 38ms/step\n",
      "1/1 [==============================] - 0s 39ms/step\n",
      "1/1 [==============================] - 0s 39ms/step\n"
     ]
    },
    {
     "name": "stdout",
     "output_type": "stream",
     "text": [
      "1/1 [==============================] - 0s 39ms/step\n",
      "1/1 [==============================] - 0s 42ms/step\n",
      "1/1 [==============================] - 0s 38ms/step\n",
      "1/1 [==============================] - 0s 44ms/step\n",
      "1/1 [==============================] - 0s 40ms/step\n",
      "1/1 [==============================] - 0s 39ms/step\n",
      "1/1 [==============================] - 0s 40ms/step\n",
      "1/1 [==============================] - 0s 41ms/step\n",
      "1/1 [==============================] - 0s 38ms/step\n",
      "1/1 [==============================] - 0s 37ms/step\n",
      "1/1 [==============================] - 0s 39ms/step\n",
      "1/1 [==============================] - 0s 42ms/step\n",
      "1/1 [==============================] - 0s 41ms/step\n",
      "1/1 [==============================] - 0s 43ms/step\n"
     ]
    },
    {
     "ename": "KeyboardInterrupt",
     "evalue": "",
     "output_type": "error",
     "traceback": [
      "\u001b[1;31m---------------------------------------------------------------------------\u001b[0m",
      "\u001b[1;31mKeyboardInterrupt\u001b[0m                         Traceback (most recent call last)",
      "\u001b[1;32m~\\AppData\\Local\\Temp/ipykernel_8236/2592847912.py\u001b[0m in \u001b[0;36m<module>\u001b[1;34m\u001b[0m\n\u001b[0;32m      5\u001b[0m \u001b[1;32mwhile\u001b[0m \u001b[0mcap\u001b[0m\u001b[1;33m.\u001b[0m\u001b[0misOpened\u001b[0m\u001b[1;33m(\u001b[0m\u001b[1;33m)\u001b[0m\u001b[1;33m:\u001b[0m\u001b[1;33m\u001b[0m\u001b[1;33m\u001b[0m\u001b[0m\n\u001b[0;32m      6\u001b[0m     \u001b[0m_\u001b[0m\u001b[1;33m,\u001b[0m\u001b[0mimg\u001b[0m\u001b[1;33m=\u001b[0m\u001b[0mcap\u001b[0m\u001b[1;33m.\u001b[0m\u001b[0mread\u001b[0m\u001b[1;33m(\u001b[0m\u001b[1;33m)\u001b[0m\u001b[1;33m\u001b[0m\u001b[1;33m\u001b[0m\u001b[0m\n\u001b[1;32m----> 7\u001b[1;33m     \u001b[0mface\u001b[0m\u001b[1;33m=\u001b[0m\u001b[0mface_cascade\u001b[0m\u001b[1;33m.\u001b[0m\u001b[0mdetectMultiScale\u001b[0m\u001b[1;33m(\u001b[0m\u001b[0mimg\u001b[0m\u001b[1;33m,\u001b[0m\u001b[0mscaleFactor\u001b[0m\u001b[1;33m=\u001b[0m\u001b[1;36m1.1\u001b[0m\u001b[1;33m,\u001b[0m\u001b[0mminNeighbors\u001b[0m\u001b[1;33m=\u001b[0m\u001b[1;36m4\u001b[0m\u001b[1;33m)\u001b[0m\u001b[1;33m\u001b[0m\u001b[1;33m\u001b[0m\u001b[0m\n\u001b[0m\u001b[0;32m      8\u001b[0m     \u001b[1;32mfor\u001b[0m\u001b[1;33m(\u001b[0m\u001b[0mx\u001b[0m\u001b[1;33m,\u001b[0m\u001b[0my\u001b[0m\u001b[1;33m,\u001b[0m\u001b[0mw\u001b[0m\u001b[1;33m,\u001b[0m\u001b[0mh\u001b[0m\u001b[1;33m)\u001b[0m \u001b[1;32min\u001b[0m \u001b[0mface\u001b[0m\u001b[1;33m:\u001b[0m\u001b[1;33m\u001b[0m\u001b[1;33m\u001b[0m\u001b[0m\n\u001b[0;32m      9\u001b[0m         \u001b[0mface_img\u001b[0m \u001b[1;33m=\u001b[0m \u001b[0mimg\u001b[0m\u001b[1;33m[\u001b[0m\u001b[0my\u001b[0m\u001b[1;33m:\u001b[0m\u001b[0my\u001b[0m\u001b[1;33m+\u001b[0m\u001b[0mh\u001b[0m\u001b[1;33m,\u001b[0m \u001b[0mx\u001b[0m\u001b[1;33m:\u001b[0m\u001b[0mx\u001b[0m\u001b[1;33m+\u001b[0m\u001b[0mw\u001b[0m\u001b[1;33m]\u001b[0m\u001b[1;33m\u001b[0m\u001b[1;33m\u001b[0m\u001b[0m\n",
      "\u001b[1;31mKeyboardInterrupt\u001b[0m: "
     ]
    }
   ],
   "source": [
    "#Real time video predicting and displaying\n",
    "cap=cv2.VideoCapture(0)\n",
    "#face_cascade=cv2.CascadeClassifier('haarcascade_frontalface_default.xml')\n",
    "\n",
    "while cap.isOpened():\n",
    "    _,img=cap.read()\n",
    "    face=face_cascade.detectMultiScale(img,scaleFactor=1.1,minNeighbors=4)\n",
    "    for(x,y,w,h) in face:\n",
    "        face_img = img[y:y+h, x:x+w]\n",
    "        cv2.imwrite('temp.jpg',face_img)\n",
    "        #test_image=image.load_img('temp.jpg',target_size=(32,32,3))\n",
    "        test_image = cv2.imread('temp.jpg')\n",
    "        test_image = cv2.resize(test_image,(160,160))\n",
    "        #Reshaping the array to convert it into input shape of the model\n",
    "        test_image = test_image.reshape(1,160,160,3)\n",
    "        #Finding the probability using the model.predict\n",
    "        confidence = model.predict(test_image)\n",
    "        #test_image=image.img_to_array(test_image)\n",
    "        #test_image=np.expand_dims(test_image,axis=0)\n",
    "        #pred=mymodel.predict(test_image)[0][0]\n",
    "        if confidence>=0.5:\n",
    "            label = \"Masked\"+ ' Probability={}'.format(confidence)\n",
    "            #cv2.rectangle(img,(x,y),(x+w,y+h),(0,0,255),3)\n",
    "            #cv2.putText(img,'NO MASK',((x+w)//2,y+h+20),cv2.FONT_HERSHEY_SIMPLEX,1,(0,0,255),3)\n",
    "            cv.putText(img, label, (x, y - 10), cv.FONT_HERSHEY_SIMPLEX, 0.45, (0,255,0), 2)\n",
    "            #Drawing a GREEN coloured rectangle around the face\n",
    "            cv.rectangle(img, (x,y), (x+w,y+h), (0,255,0), thickness=2)\n",
    "        else:\n",
    "            label = \"Not Masked\"+ ' Probability={}'.format(confidence)\n",
    "            #Putting Not Masked text in the images\n",
    "            cv.putText(img, label, (x, y - 10), cv.FONT_HERSHEY_SIMPLEX, 0.45, (0,0,255), 2)\n",
    "            #Drawing a RED coloured rectangle around the face\n",
    "            cv.rectangle(img, (x,y), (x+w,y+h), (0,0,255), thickness=2)\n",
    "            #cv2.rectangle(img,(x,y),(x+w,y+h),(0,255,0),3)\n",
    "            #cv2.putText(img,'MASK',((x+w)//2,y+h+20),cv2.FONT_HERSHEY_SIMPLEX,1,(0,255,0),3)\n",
    "        datet=str(datetime.datetime.now())\n",
    "        cv2.putText(img,datet,(400,450),cv2.FONT_HERSHEY_SIMPLEX,0.5,(255,255,255),1)\n",
    "          \n",
    "    cv2.imshow('img',img)\n",
    "    \n",
    "    if cv2.waitKey(1)==ord('q'):\n",
    "        break\n",
    "    \n",
    "cap.release()\n",
    "cv2.destroyAllWindows()"
   ]
  }
 ],
 "metadata": {
  "kernelspec": {
   "display_name": "Python 3 (ipykernel)",
   "language": "python",
   "name": "python3"
  },
  "language_info": {
   "codemirror_mode": {
    "name": "ipython",
    "version": 3
   },
   "file_extension": ".py",
   "mimetype": "text/x-python",
   "name": "python",
   "nbconvert_exporter": "python",
   "pygments_lexer": "ipython3",
   "version": "3.9.7"
  }
 },
 "nbformat": 4,
 "nbformat_minor": 5
}
